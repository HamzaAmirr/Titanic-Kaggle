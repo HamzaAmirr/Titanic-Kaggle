{
 "cells": [
  {
   "cell_type": "code",
   "execution_count": 1,
   "id": "05540fe2",
   "metadata": {
    "_cell_guid": "b1076dfc-b9ad-4769-8c92-a6c4dae69d19",
    "_uuid": "8f2839f25d086af736a60e9eeb907d3b93b6e0e5",
    "execution": {
     "iopub.execute_input": "2023-07-17T13:59:31.348150Z",
     "iopub.status.busy": "2023-07-17T13:59:31.347689Z",
     "iopub.status.idle": "2023-07-17T13:59:31.362784Z",
     "shell.execute_reply": "2023-07-17T13:59:31.361596Z"
    },
    "papermill": {
     "duration": 0.028919,
     "end_time": "2023-07-17T13:59:31.364866",
     "exception": false,
     "start_time": "2023-07-17T13:59:31.335947",
     "status": "completed"
    },
    "tags": []
   },
   "outputs": [
    {
     "name": "stdout",
     "output_type": "stream",
     "text": [
      "/kaggle/input/titanic/train.csv\n",
      "/kaggle/input/titanic/test.csv\n",
      "/kaggle/input/titanic/gender_submission.csv\n"
     ]
    }
   ],
   "source": [
    "# This Python 3 environment comes with many helpful analytics libraries installed\n",
    "# It is defined by the kaggle/python Docker image: https://github.com/kaggle/docker-python\n",
    "# For example, here's several helpful packages to load\n",
    "\n",
    "import numpy as np # linear algebra\n",
    "import pandas as pd # data processing, CSV file I/O (e.g. pd.read_csv)\n",
    "\n",
    "# Input data files are available in the read-only \"../input/\" directory\n",
    "# For example, running this (by clicking run or pressing Shift+Enter) will list all files under the input directory\n",
    "\n",
    "import os\n",
    "for dirname, _, filenames in os.walk('/kaggle/input'):\n",
    "    for filename in filenames:\n",
    "        print(os.path.join(dirname, filename))\n",
    "\n",
    "# You can write up to 20GB to the current directory (/kaggle/working/) that gets preserved as output when you create a version using \"Save & Run All\" \n",
    "# You can also write temporary files to /kaggle/temp/, but they won't be saved outside of the current session"
   ]
  },
  {
   "cell_type": "markdown",
   "id": "2c111e8f",
   "metadata": {
    "papermill": {
     "duration": 0.012971,
     "end_time": "2023-07-17T13:59:31.389291",
     "exception": false,
     "start_time": "2023-07-17T13:59:31.376320",
     "status": "completed"
    },
    "tags": []
   },
   "source": [
    "# **Importing nessecary libraries**"
   ]
  },
  {
   "cell_type": "code",
   "execution_count": 2,
   "id": "7124a37f",
   "metadata": {
    "execution": {
     "iopub.execute_input": "2023-07-17T13:59:31.409992Z",
     "iopub.status.busy": "2023-07-17T13:59:31.409193Z",
     "iopub.status.idle": "2023-07-17T13:59:32.684201Z",
     "shell.execute_reply": "2023-07-17T13:59:32.683180Z"
    },
    "papermill": {
     "duration": 1.288148,
     "end_time": "2023-07-17T13:59:32.686722",
     "exception": false,
     "start_time": "2023-07-17T13:59:31.398574",
     "status": "completed"
    },
    "tags": []
   },
   "outputs": [
    {
     "name": "stderr",
     "output_type": "stream",
     "text": [
      "/opt/conda/lib/python3.10/site-packages/scipy/__init__.py:146: UserWarning: A NumPy version >=1.16.5 and <1.23.0 is required for this version of SciPy (detected version 1.23.5\n",
      "  warnings.warn(f\"A NumPy version >={np_minversion} and <{np_maxversion}\"\n"
     ]
    }
   ],
   "source": [
    "import pandas as pd\n",
    "import numpy as np\n",
    "from sklearn.preprocessing import LabelEncoder\n",
    "from sklearn.model_selection import train_test_split \n",
    "from sklearn.svm import SVC\n",
    "from xgboost import XGBClassifier\n",
    "from sklearn.naive_bayes import GaussianNB\n",
    "from sklearn.model_selection import cross_val_score,GridSearchCV"
   ]
  },
  {
   "cell_type": "markdown",
   "id": "e0c851d9",
   "metadata": {
    "papermill": {
     "duration": 0.009534,
     "end_time": "2023-07-17T13:59:32.706127",
     "exception": false,
     "start_time": "2023-07-17T13:59:32.696593",
     "status": "completed"
    },
    "tags": []
   },
   "source": [
    "# Data importing and preprocessing"
   ]
  },
  {
   "cell_type": "code",
   "execution_count": 3,
   "id": "9033c34e",
   "metadata": {
    "execution": {
     "iopub.execute_input": "2023-07-17T13:59:32.726968Z",
     "iopub.status.busy": "2023-07-17T13:59:32.726149Z",
     "iopub.status.idle": "2023-07-17T13:59:32.747804Z",
     "shell.execute_reply": "2023-07-17T13:59:32.746775Z"
    },
    "papermill": {
     "duration": 0.034324,
     "end_time": "2023-07-17T13:59:32.749922",
     "exception": false,
     "start_time": "2023-07-17T13:59:32.715598",
     "status": "completed"
    },
    "tags": []
   },
   "outputs": [
    {
     "data": {
      "text/plain": [
       "Index(['PassengerId', 'Survived', 'Pclass', 'Name', 'Sex', 'Age', 'SibSp',\n",
       "       'Parch', 'Ticket', 'Fare', 'Cabin', 'Embarked'],\n",
       "      dtype='object')"
      ]
     },
     "execution_count": 3,
     "metadata": {},
     "output_type": "execute_result"
    }
   ],
   "source": [
    "traindf1=pd.read_csv('/kaggle/input/titanic/train.csv')\n",
    "traindf1.columns"
   ]
  },
  {
   "cell_type": "code",
   "execution_count": 4,
   "id": "64f16fb0",
   "metadata": {
    "execution": {
     "iopub.execute_input": "2023-07-17T13:59:32.771872Z",
     "iopub.status.busy": "2023-07-17T13:59:32.770260Z",
     "iopub.status.idle": "2023-07-17T13:59:32.790142Z",
     "shell.execute_reply": "2023-07-17T13:59:32.789128Z"
    },
    "papermill": {
     "duration": 0.032873,
     "end_time": "2023-07-17T13:59:32.792366",
     "exception": false,
     "start_time": "2023-07-17T13:59:32.759493",
     "status": "completed"
    },
    "tags": []
   },
   "outputs": [
    {
     "data": {
      "text/html": [
       "<div>\n",
       "<style scoped>\n",
       "    .dataframe tbody tr th:only-of-type {\n",
       "        vertical-align: middle;\n",
       "    }\n",
       "\n",
       "    .dataframe tbody tr th {\n",
       "        vertical-align: top;\n",
       "    }\n",
       "\n",
       "    .dataframe thead th {\n",
       "        text-align: right;\n",
       "    }\n",
       "</style>\n",
       "<table border=\"1\" class=\"dataframe\">\n",
       "  <thead>\n",
       "    <tr style=\"text-align: right;\">\n",
       "      <th></th>\n",
       "      <th>PassengerId</th>\n",
       "      <th>Survived</th>\n",
       "      <th>Pclass</th>\n",
       "      <th>Name</th>\n",
       "      <th>Sex</th>\n",
       "      <th>Age</th>\n",
       "      <th>SibSp</th>\n",
       "      <th>Parch</th>\n",
       "      <th>Ticket</th>\n",
       "      <th>Fare</th>\n",
       "      <th>Cabin</th>\n",
       "      <th>Embarked</th>\n",
       "    </tr>\n",
       "  </thead>\n",
       "  <tbody>\n",
       "    <tr>\n",
       "      <th>0</th>\n",
       "      <td>1</td>\n",
       "      <td>0</td>\n",
       "      <td>3</td>\n",
       "      <td>Braund, Mr. Owen Harris</td>\n",
       "      <td>male</td>\n",
       "      <td>22.0</td>\n",
       "      <td>1</td>\n",
       "      <td>0</td>\n",
       "      <td>A/5 21171</td>\n",
       "      <td>7.2500</td>\n",
       "      <td>NaN</td>\n",
       "      <td>S</td>\n",
       "    </tr>\n",
       "    <tr>\n",
       "      <th>1</th>\n",
       "      <td>2</td>\n",
       "      <td>1</td>\n",
       "      <td>1</td>\n",
       "      <td>Cumings, Mrs. John Bradley (Florence Briggs Th...</td>\n",
       "      <td>female</td>\n",
       "      <td>38.0</td>\n",
       "      <td>1</td>\n",
       "      <td>0</td>\n",
       "      <td>PC 17599</td>\n",
       "      <td>71.2833</td>\n",
       "      <td>C85</td>\n",
       "      <td>C</td>\n",
       "    </tr>\n",
       "    <tr>\n",
       "      <th>2</th>\n",
       "      <td>3</td>\n",
       "      <td>1</td>\n",
       "      <td>3</td>\n",
       "      <td>Heikkinen, Miss. Laina</td>\n",
       "      <td>female</td>\n",
       "      <td>26.0</td>\n",
       "      <td>0</td>\n",
       "      <td>0</td>\n",
       "      <td>STON/O2. 3101282</td>\n",
       "      <td>7.9250</td>\n",
       "      <td>NaN</td>\n",
       "      <td>S</td>\n",
       "    </tr>\n",
       "    <tr>\n",
       "      <th>3</th>\n",
       "      <td>4</td>\n",
       "      <td>1</td>\n",
       "      <td>1</td>\n",
       "      <td>Futrelle, Mrs. Jacques Heath (Lily May Peel)</td>\n",
       "      <td>female</td>\n",
       "      <td>35.0</td>\n",
       "      <td>1</td>\n",
       "      <td>0</td>\n",
       "      <td>113803</td>\n",
       "      <td>53.1000</td>\n",
       "      <td>C123</td>\n",
       "      <td>S</td>\n",
       "    </tr>\n",
       "    <tr>\n",
       "      <th>4</th>\n",
       "      <td>5</td>\n",
       "      <td>0</td>\n",
       "      <td>3</td>\n",
       "      <td>Allen, Mr. William Henry</td>\n",
       "      <td>male</td>\n",
       "      <td>35.0</td>\n",
       "      <td>0</td>\n",
       "      <td>0</td>\n",
       "      <td>373450</td>\n",
       "      <td>8.0500</td>\n",
       "      <td>NaN</td>\n",
       "      <td>S</td>\n",
       "    </tr>\n",
       "  </tbody>\n",
       "</table>\n",
       "</div>"
      ],
      "text/plain": [
       "   PassengerId  Survived  Pclass  \\\n",
       "0            1         0       3   \n",
       "1            2         1       1   \n",
       "2            3         1       3   \n",
       "3            4         1       1   \n",
       "4            5         0       3   \n",
       "\n",
       "                                                Name     Sex   Age  SibSp  \\\n",
       "0                            Braund, Mr. Owen Harris    male  22.0      1   \n",
       "1  Cumings, Mrs. John Bradley (Florence Briggs Th...  female  38.0      1   \n",
       "2                             Heikkinen, Miss. Laina  female  26.0      0   \n",
       "3       Futrelle, Mrs. Jacques Heath (Lily May Peel)  female  35.0      1   \n",
       "4                           Allen, Mr. William Henry    male  35.0      0   \n",
       "\n",
       "   Parch            Ticket     Fare Cabin Embarked  \n",
       "0      0         A/5 21171   7.2500   NaN        S  \n",
       "1      0          PC 17599  71.2833   C85        C  \n",
       "2      0  STON/O2. 3101282   7.9250   NaN        S  \n",
       "3      0            113803  53.1000  C123        S  \n",
       "4      0            373450   8.0500   NaN        S  "
      ]
     },
     "execution_count": 4,
     "metadata": {},
     "output_type": "execute_result"
    }
   ],
   "source": [
    "traindf1.head()"
   ]
  },
  {
   "cell_type": "code",
   "execution_count": 5,
   "id": "d79a03ff",
   "metadata": {
    "execution": {
     "iopub.execute_input": "2023-07-17T13:59:32.813351Z",
     "iopub.status.busy": "2023-07-17T13:59:32.813070Z",
     "iopub.status.idle": "2023-07-17T13:59:32.817000Z",
     "shell.execute_reply": "2023-07-17T13:59:32.816098Z"
    },
    "papermill": {
     "duration": 0.016485,
     "end_time": "2023-07-17T13:59:32.818927",
     "exception": false,
     "start_time": "2023-07-17T13:59:32.802442",
     "status": "completed"
    },
    "tags": []
   },
   "outputs": [],
   "source": [
    "#creating a new dataframe to edit without loosing orignal\n",
    "traindf2=traindf1"
   ]
  },
  {
   "cell_type": "code",
   "execution_count": 6,
   "id": "366228c6",
   "metadata": {
    "execution": {
     "iopub.execute_input": "2023-07-17T13:59:32.840018Z",
     "iopub.status.busy": "2023-07-17T13:59:32.839723Z",
     "iopub.status.idle": "2023-07-17T13:59:32.847250Z",
     "shell.execute_reply": "2023-07-17T13:59:32.846278Z"
    },
    "papermill": {
     "duration": 0.020105,
     "end_time": "2023-07-17T13:59:32.849291",
     "exception": false,
     "start_time": "2023-07-17T13:59:32.829186",
     "status": "completed"
    },
    "tags": []
   },
   "outputs": [],
   "source": [
    "#dropping columns which are not required in training\n",
    "traindf2.drop(['PassengerId','Name','Ticket'],axis=1,inplace=True)"
   ]
  },
  {
   "cell_type": "code",
   "execution_count": 7,
   "id": "9c15b505",
   "metadata": {
    "execution": {
     "iopub.execute_input": "2023-07-17T13:59:32.870570Z",
     "iopub.status.busy": "2023-07-17T13:59:32.869864Z",
     "iopub.status.idle": "2023-07-17T13:59:32.878877Z",
     "shell.execute_reply": "2023-07-17T13:59:32.877933Z"
    },
    "papermill": {
     "duration": 0.021876,
     "end_time": "2023-07-17T13:59:32.880959",
     "exception": false,
     "start_time": "2023-07-17T13:59:32.859083",
     "status": "completed"
    },
    "tags": []
   },
   "outputs": [
    {
     "data": {
      "text/plain": [
       "Survived      0\n",
       "Pclass        0\n",
       "Sex           0\n",
       "Age         177\n",
       "SibSp         0\n",
       "Parch         0\n",
       "Fare          0\n",
       "Cabin       687\n",
       "Embarked      2\n",
       "dtype: int64"
      ]
     },
     "execution_count": 7,
     "metadata": {},
     "output_type": "execute_result"
    }
   ],
   "source": [
    "#checking for null values in each column\n",
    "traindf2.isnull().sum()"
   ]
  },
  {
   "cell_type": "code",
   "execution_count": 8,
   "id": "708627b6",
   "metadata": {
    "execution": {
     "iopub.execute_input": "2023-07-17T13:59:32.903808Z",
     "iopub.status.busy": "2023-07-17T13:59:32.903073Z",
     "iopub.status.idle": "2023-07-17T13:59:32.909485Z",
     "shell.execute_reply": "2023-07-17T13:59:32.908634Z"
    },
    "papermill": {
     "duration": 0.019349,
     "end_time": "2023-07-17T13:59:32.911533",
     "exception": false,
     "start_time": "2023-07-17T13:59:32.892184",
     "status": "completed"
    },
    "tags": []
   },
   "outputs": [],
   "source": [
    "#also dropping Cabin because out of around 900 values 700 are null so can't manage that much null values\n",
    "traindf2.drop('Cabin',axis=1,inplace=True)"
   ]
  },
  {
   "cell_type": "code",
   "execution_count": 9,
   "id": "e0cab3d0",
   "metadata": {
    "execution": {
     "iopub.execute_input": "2023-07-17T13:59:32.933971Z",
     "iopub.status.busy": "2023-07-17T13:59:32.932560Z",
     "iopub.status.idle": "2023-07-17T13:59:32.938329Z",
     "shell.execute_reply": "2023-07-17T13:59:32.937505Z"
    },
    "papermill": {
     "duration": 0.01832,
     "end_time": "2023-07-17T13:59:32.940286",
     "exception": false,
     "start_time": "2023-07-17T13:59:32.921966",
     "status": "completed"
    },
    "tags": []
   },
   "outputs": [],
   "source": [
    "# filling all null values in age by the mean age\n",
    "traindf2.Age.fillna(int(traindf2.Age.mean()),inplace=True)"
   ]
  },
  {
   "cell_type": "code",
   "execution_count": 10,
   "id": "8319dd8f",
   "metadata": {
    "execution": {
     "iopub.execute_input": "2023-07-17T13:59:32.961930Z",
     "iopub.status.busy": "2023-07-17T13:59:32.961088Z",
     "iopub.status.idle": "2023-07-17T13:59:32.969360Z",
     "shell.execute_reply": "2023-07-17T13:59:32.968405Z"
    },
    "papermill": {
     "duration": 0.020928,
     "end_time": "2023-07-17T13:59:32.971365",
     "exception": false,
     "start_time": "2023-07-17T13:59:32.950437",
     "status": "completed"
    },
    "tags": []
   },
   "outputs": [
    {
     "data": {
      "text/plain": [
       "Survived    0\n",
       "Pclass      0\n",
       "Sex         0\n",
       "Age         0\n",
       "SibSp       0\n",
       "Parch       0\n",
       "Fare        0\n",
       "Embarked    2\n",
       "dtype: int64"
      ]
     },
     "execution_count": 10,
     "metadata": {},
     "output_type": "execute_result"
    }
   ],
   "source": [
    "#checking for other columns with null values\n",
    "traindf2.isnull().sum()"
   ]
  },
  {
   "cell_type": "code",
   "execution_count": 11,
   "id": "ea2f6b6b",
   "metadata": {
    "execution": {
     "iopub.execute_input": "2023-07-17T13:59:32.993139Z",
     "iopub.status.busy": "2023-07-17T13:59:32.992385Z",
     "iopub.status.idle": "2023-07-17T13:59:32.998516Z",
     "shell.execute_reply": "2023-07-17T13:59:32.997604Z"
    },
    "papermill": {
     "duration": 0.01891,
     "end_time": "2023-07-17T13:59:33.000501",
     "exception": false,
     "start_time": "2023-07-17T13:59:32.981591",
     "status": "completed"
    },
    "tags": []
   },
   "outputs": [],
   "source": [
    "#only two null values in embarked and can't think of a desirable way of filling them so droping the rows with null values\n",
    "traindf2.dropna(inplace=True)"
   ]
  },
  {
   "cell_type": "code",
   "execution_count": 12,
   "id": "7c7dea0f",
   "metadata": {
    "execution": {
     "iopub.execute_input": "2023-07-17T13:59:33.022631Z",
     "iopub.status.busy": "2023-07-17T13:59:33.021919Z",
     "iopub.status.idle": "2023-07-17T13:59:33.033919Z",
     "shell.execute_reply": "2023-07-17T13:59:33.032957Z"
    },
    "papermill": {
     "duration": 0.024894,
     "end_time": "2023-07-17T13:59:33.035931",
     "exception": false,
     "start_time": "2023-07-17T13:59:33.011037",
     "status": "completed"
    },
    "tags": []
   },
   "outputs": [
    {
     "data": {
      "text/html": [
       "<div>\n",
       "<style scoped>\n",
       "    .dataframe tbody tr th:only-of-type {\n",
       "        vertical-align: middle;\n",
       "    }\n",
       "\n",
       "    .dataframe tbody tr th {\n",
       "        vertical-align: top;\n",
       "    }\n",
       "\n",
       "    .dataframe thead th {\n",
       "        text-align: right;\n",
       "    }\n",
       "</style>\n",
       "<table border=\"1\" class=\"dataframe\">\n",
       "  <thead>\n",
       "    <tr style=\"text-align: right;\">\n",
       "      <th></th>\n",
       "      <th>Survived</th>\n",
       "      <th>Pclass</th>\n",
       "      <th>Sex</th>\n",
       "      <th>Age</th>\n",
       "      <th>SibSp</th>\n",
       "      <th>Parch</th>\n",
       "      <th>Fare</th>\n",
       "      <th>Embarked</th>\n",
       "    </tr>\n",
       "  </thead>\n",
       "  <tbody>\n",
       "    <tr>\n",
       "      <th>0</th>\n",
       "      <td>0</td>\n",
       "      <td>3</td>\n",
       "      <td>male</td>\n",
       "      <td>22.0</td>\n",
       "      <td>1</td>\n",
       "      <td>0</td>\n",
       "      <td>7.2500</td>\n",
       "      <td>S</td>\n",
       "    </tr>\n",
       "    <tr>\n",
       "      <th>1</th>\n",
       "      <td>1</td>\n",
       "      <td>1</td>\n",
       "      <td>female</td>\n",
       "      <td>38.0</td>\n",
       "      <td>1</td>\n",
       "      <td>0</td>\n",
       "      <td>71.2833</td>\n",
       "      <td>C</td>\n",
       "    </tr>\n",
       "    <tr>\n",
       "      <th>2</th>\n",
       "      <td>1</td>\n",
       "      <td>3</td>\n",
       "      <td>female</td>\n",
       "      <td>26.0</td>\n",
       "      <td>0</td>\n",
       "      <td>0</td>\n",
       "      <td>7.9250</td>\n",
       "      <td>S</td>\n",
       "    </tr>\n",
       "    <tr>\n",
       "      <th>3</th>\n",
       "      <td>1</td>\n",
       "      <td>1</td>\n",
       "      <td>female</td>\n",
       "      <td>35.0</td>\n",
       "      <td>1</td>\n",
       "      <td>0</td>\n",
       "      <td>53.1000</td>\n",
       "      <td>S</td>\n",
       "    </tr>\n",
       "    <tr>\n",
       "      <th>4</th>\n",
       "      <td>0</td>\n",
       "      <td>3</td>\n",
       "      <td>male</td>\n",
       "      <td>35.0</td>\n",
       "      <td>0</td>\n",
       "      <td>0</td>\n",
       "      <td>8.0500</td>\n",
       "      <td>S</td>\n",
       "    </tr>\n",
       "  </tbody>\n",
       "</table>\n",
       "</div>"
      ],
      "text/plain": [
       "   Survived  Pclass     Sex   Age  SibSp  Parch     Fare Embarked\n",
       "0         0       3    male  22.0      1      0   7.2500        S\n",
       "1         1       1  female  38.0      1      0  71.2833        C\n",
       "2         1       3  female  26.0      0      0   7.9250        S\n",
       "3         1       1  female  35.0      1      0  53.1000        S\n",
       "4         0       3    male  35.0      0      0   8.0500        S"
      ]
     },
     "execution_count": 12,
     "metadata": {},
     "output_type": "execute_result"
    }
   ],
   "source": [
    "#printing the dataframe to look at the values\n",
    "traindf2.head()"
   ]
  },
  {
   "cell_type": "code",
   "execution_count": 13,
   "id": "89183a04",
   "metadata": {
    "execution": {
     "iopub.execute_input": "2023-07-17T13:59:33.058090Z",
     "iopub.status.busy": "2023-07-17T13:59:33.057362Z",
     "iopub.status.idle": "2023-07-17T13:59:33.063746Z",
     "shell.execute_reply": "2023-07-17T13:59:33.062924Z"
    },
    "papermill": {
     "duration": 0.019234,
     "end_time": "2023-07-17T13:59:33.065704",
     "exception": false,
     "start_time": "2023-07-17T13:59:33.046470",
     "status": "completed"
    },
    "tags": []
   },
   "outputs": [],
   "source": [
    "#using label encoder to convert text into numbers\n",
    "le=LabelEncoder()\n",
    "traindf2.Sex=le.fit_transform(traindf2.Sex)\n",
    "traindf2.Embarked=le.fit_transform(traindf2.Embarked)"
   ]
  },
  {
   "cell_type": "code",
   "execution_count": 14,
   "id": "cc607df5",
   "metadata": {
    "execution": {
     "iopub.execute_input": "2023-07-17T13:59:33.087902Z",
     "iopub.status.busy": "2023-07-17T13:59:33.087173Z",
     "iopub.status.idle": "2023-07-17T13:59:33.099018Z",
     "shell.execute_reply": "2023-07-17T13:59:33.098089Z"
    },
    "papermill": {
     "duration": 0.02518,
     "end_time": "2023-07-17T13:59:33.101183",
     "exception": false,
     "start_time": "2023-07-17T13:59:33.076003",
     "status": "completed"
    },
    "tags": []
   },
   "outputs": [
    {
     "data": {
      "text/html": [
       "<div>\n",
       "<style scoped>\n",
       "    .dataframe tbody tr th:only-of-type {\n",
       "        vertical-align: middle;\n",
       "    }\n",
       "\n",
       "    .dataframe tbody tr th {\n",
       "        vertical-align: top;\n",
       "    }\n",
       "\n",
       "    .dataframe thead th {\n",
       "        text-align: right;\n",
       "    }\n",
       "</style>\n",
       "<table border=\"1\" class=\"dataframe\">\n",
       "  <thead>\n",
       "    <tr style=\"text-align: right;\">\n",
       "      <th></th>\n",
       "      <th>Survived</th>\n",
       "      <th>Pclass</th>\n",
       "      <th>Sex</th>\n",
       "      <th>Age</th>\n",
       "      <th>SibSp</th>\n",
       "      <th>Parch</th>\n",
       "      <th>Fare</th>\n",
       "      <th>Embarked</th>\n",
       "    </tr>\n",
       "  </thead>\n",
       "  <tbody>\n",
       "    <tr>\n",
       "      <th>0</th>\n",
       "      <td>0</td>\n",
       "      <td>3</td>\n",
       "      <td>1</td>\n",
       "      <td>22.0</td>\n",
       "      <td>1</td>\n",
       "      <td>0</td>\n",
       "      <td>7.2500</td>\n",
       "      <td>2</td>\n",
       "    </tr>\n",
       "    <tr>\n",
       "      <th>1</th>\n",
       "      <td>1</td>\n",
       "      <td>1</td>\n",
       "      <td>0</td>\n",
       "      <td>38.0</td>\n",
       "      <td>1</td>\n",
       "      <td>0</td>\n",
       "      <td>71.2833</td>\n",
       "      <td>0</td>\n",
       "    </tr>\n",
       "    <tr>\n",
       "      <th>2</th>\n",
       "      <td>1</td>\n",
       "      <td>3</td>\n",
       "      <td>0</td>\n",
       "      <td>26.0</td>\n",
       "      <td>0</td>\n",
       "      <td>0</td>\n",
       "      <td>7.9250</td>\n",
       "      <td>2</td>\n",
       "    </tr>\n",
       "    <tr>\n",
       "      <th>3</th>\n",
       "      <td>1</td>\n",
       "      <td>1</td>\n",
       "      <td>0</td>\n",
       "      <td>35.0</td>\n",
       "      <td>1</td>\n",
       "      <td>0</td>\n",
       "      <td>53.1000</td>\n",
       "      <td>2</td>\n",
       "    </tr>\n",
       "    <tr>\n",
       "      <th>4</th>\n",
       "      <td>0</td>\n",
       "      <td>3</td>\n",
       "      <td>1</td>\n",
       "      <td>35.0</td>\n",
       "      <td>0</td>\n",
       "      <td>0</td>\n",
       "      <td>8.0500</td>\n",
       "      <td>2</td>\n",
       "    </tr>\n",
       "  </tbody>\n",
       "</table>\n",
       "</div>"
      ],
      "text/plain": [
       "   Survived  Pclass  Sex   Age  SibSp  Parch     Fare  Embarked\n",
       "0         0       3    1  22.0      1      0   7.2500         2\n",
       "1         1       1    0  38.0      1      0  71.2833         0\n",
       "2         1       3    0  26.0      0      0   7.9250         2\n",
       "3         1       1    0  35.0      1      0  53.1000         2\n",
       "4         0       3    1  35.0      0      0   8.0500         2"
      ]
     },
     "execution_count": 14,
     "metadata": {},
     "output_type": "execute_result"
    }
   ],
   "source": [
    "#printing the dataframe to look at the values\n",
    "traindf2.head()"
   ]
  },
  {
   "cell_type": "code",
   "execution_count": 15,
   "id": "6642166f",
   "metadata": {
    "execution": {
     "iopub.execute_input": "2023-07-17T13:59:33.124635Z",
     "iopub.status.busy": "2023-07-17T13:59:33.123780Z",
     "iopub.status.idle": "2023-07-17T13:59:33.131624Z",
     "shell.execute_reply": "2023-07-17T13:59:33.130633Z"
    },
    "papermill": {
     "duration": 0.021349,
     "end_time": "2023-07-17T13:59:33.133682",
     "exception": false,
     "start_time": "2023-07-17T13:59:33.112333",
     "status": "completed"
    },
    "tags": []
   },
   "outputs": [
    {
     "data": {
      "text/plain": [
       "Survived    False\n",
       "Pclass      False\n",
       "Sex         False\n",
       "Age         False\n",
       "SibSp       False\n",
       "Parch       False\n",
       "Fare        False\n",
       "Embarked    False\n",
       "dtype: bool"
      ]
     },
     "execution_count": 15,
     "metadata": {},
     "output_type": "execute_result"
    }
   ],
   "source": [
    "#making sure no values are null\n",
    "traindf2.isnull().any()"
   ]
  },
  {
   "cell_type": "code",
   "execution_count": 16,
   "id": "d89ade62",
   "metadata": {
    "execution": {
     "iopub.execute_input": "2023-07-17T13:59:33.156754Z",
     "iopub.status.busy": "2023-07-17T13:59:33.156024Z",
     "iopub.status.idle": "2023-07-17T13:59:33.160514Z",
     "shell.execute_reply": "2023-07-17T13:59:33.159700Z"
    },
    "papermill": {
     "duration": 0.017852,
     "end_time": "2023-07-17T13:59:33.162566",
     "exception": false,
     "start_time": "2023-07-17T13:59:33.144714",
     "status": "completed"
    },
    "tags": []
   },
   "outputs": [],
   "source": [
    "y=traindf2.Survived"
   ]
  },
  {
   "cell_type": "code",
   "execution_count": 17,
   "id": "0083b96a",
   "metadata": {
    "execution": {
     "iopub.execute_input": "2023-07-17T13:59:33.185508Z",
     "iopub.status.busy": "2023-07-17T13:59:33.184757Z",
     "iopub.status.idle": "2023-07-17T13:59:33.192287Z",
     "shell.execute_reply": "2023-07-17T13:59:33.191342Z"
    },
    "papermill": {
     "duration": 0.021007,
     "end_time": "2023-07-17T13:59:33.194286",
     "exception": false,
     "start_time": "2023-07-17T13:59:33.173279",
     "status": "completed"
    },
    "tags": []
   },
   "outputs": [
    {
     "data": {
      "text/plain": [
       "Index(['Pclass', 'Sex', 'Age', 'SibSp', 'Parch', 'Fare', 'Embarked'], dtype='object')"
      ]
     },
     "execution_count": 17,
     "metadata": {},
     "output_type": "execute_result"
    }
   ],
   "source": [
    "x=traindf2.drop('Survived',axis=1)\n",
    "x.columns"
   ]
  },
  {
   "cell_type": "code",
   "execution_count": 18,
   "id": "c9a10c07",
   "metadata": {
    "execution": {
     "iopub.execute_input": "2023-07-17T13:59:33.217507Z",
     "iopub.status.busy": "2023-07-17T13:59:33.216789Z",
     "iopub.status.idle": "2023-07-17T13:59:33.222775Z",
     "shell.execute_reply": "2023-07-17T13:59:33.221950Z"
    },
    "papermill": {
     "duration": 0.019277,
     "end_time": "2023-07-17T13:59:33.224757",
     "exception": false,
     "start_time": "2023-07-17T13:59:33.205480",
     "status": "completed"
    },
    "tags": []
   },
   "outputs": [],
   "source": [
    "x_train, x_test, y_train, y_test = train_test_split(x, y, test_size=0.2)"
   ]
  },
  {
   "cell_type": "markdown",
   "id": "516a5cc6",
   "metadata": {
    "papermill": {
     "duration": 0.010622,
     "end_time": "2023-07-17T13:59:33.246052",
     "exception": false,
     "start_time": "2023-07-17T13:59:33.235430",
     "status": "completed"
    },
    "tags": []
   },
   "source": [
    "# **Data preprocessing for the training dataset done**"
   ]
  },
  {
   "cell_type": "markdown",
   "id": "cf2ebf5a",
   "metadata": {
    "papermill": {
     "duration": 0.010743,
     "end_time": "2023-07-17T13:59:33.267409",
     "exception": false,
     "start_time": "2023-07-17T13:59:33.256666",
     "status": "completed"
    },
    "tags": []
   },
   "source": [
    "# **Model building**  "
   ]
  },
  {
   "cell_type": "code",
   "execution_count": 19,
   "id": "4d004368",
   "metadata": {
    "execution": {
     "iopub.execute_input": "2023-07-17T13:59:33.290250Z",
     "iopub.status.busy": "2023-07-17T13:59:33.289685Z",
     "iopub.status.idle": "2023-07-17T14:03:35.199414Z",
     "shell.execute_reply": "2023-07-17T14:03:35.195350Z"
    },
    "papermill": {
     "duration": 241.932459,
     "end_time": "2023-07-17T14:03:35.210467",
     "exception": false,
     "start_time": "2023-07-17T13:59:33.278008",
     "status": "completed"
    },
    "tags": []
   },
   "outputs": [
    {
     "name": "stdout",
     "output_type": "stream",
     "text": [
      "training score: 0.7833940707180144\n",
      "Test accuracy: 0.797752808988764\n"
     ]
    }
   ],
   "source": [
    "svm=SVC()\n",
    "# Define the parameter grid for grid search\n",
    "param_grid = {'C': [0.1, 1, 10], 'gamma': [0.1, 1, 10], 'kernel': ['linear', 'rbf']}\n",
    "\n",
    "# Create an instance of GridSearchCV\n",
    "grid_search = GridSearchCV(svm, param_grid, cv=5)\n",
    "\n",
    "# Perform grid search with cross-validation\n",
    "grid_search.fit(x_train, y_train)\n",
    "\n",
    "# Get the best estimator from grid search\n",
    "best_svm = grid_search.best_estimator_\n",
    "\n",
    "# Access the best training accuracy during grid search\n",
    "training_accuracy = grid_search.best_score_\n",
    "\n",
    "#printing the best training accuracy during grid search\n",
    "print(\"training score:\",training_accuracy)\n",
    "# Evaluate the best estimator on the test set\n",
    "test_accuracy = best_svm.score(x_test, y_test)\n",
    "\n",
    "# printing the test accuracy\n",
    "print(\"Test accuracy:\", test_accuracy)"
   ]
  },
  {
   "cell_type": "markdown",
   "id": "4d3ea4d8",
   "metadata": {
    "papermill": {
     "duration": 0.010581,
     "end_time": "2023-07-17T14:03:35.231988",
     "exception": false,
     "start_time": "2023-07-17T14:03:35.221407",
     "status": "completed"
    },
    "tags": []
   },
   "source": [
    "# *Even with the best params the accuracy is too low. trying another model i.e GaussianNB*"
   ]
  },
  {
   "cell_type": "code",
   "execution_count": 20,
   "id": "83354b57",
   "metadata": {
    "execution": {
     "iopub.execute_input": "2023-07-17T14:03:35.254721Z",
     "iopub.status.busy": "2023-07-17T14:03:35.254416Z",
     "iopub.status.idle": "2023-07-17T14:03:35.266699Z",
     "shell.execute_reply": "2023-07-17T14:03:35.265693Z"
    },
    "papermill": {
     "duration": 0.026127,
     "end_time": "2023-07-17T14:03:35.268975",
     "exception": false,
     "start_time": "2023-07-17T14:03:35.242848",
     "status": "completed"
    },
    "tags": []
   },
   "outputs": [
    {
     "name": "stdout",
     "output_type": "stream",
     "text": [
      "0.797752808988764\n"
     ]
    }
   ],
   "source": [
    "# Create a Gaussian Naive Bayes classifier\n",
    "gnb = GaussianNB()\n",
    "\n",
    "#training the model\n",
    "gnb.fit(x_train,y_train)\n",
    "\n",
    "#evaluating on unseen data\n",
    "print(gnb.score(x_test,y_test))"
   ]
  },
  {
   "cell_type": "markdown",
   "id": "00a3f0ff",
   "metadata": {
    "papermill": {
     "duration": 0.010797,
     "end_time": "2023-07-17T14:03:35.290394",
     "exception": false,
     "start_time": "2023-07-17T14:03:35.279597",
     "status": "completed"
    },
    "tags": []
   },
   "source": [
    "the score is better than the previous one but will make another model i.e XGboost to see which is better"
   ]
  },
  {
   "cell_type": "code",
   "execution_count": 21,
   "id": "a071ed52",
   "metadata": {
    "execution": {
     "iopub.execute_input": "2023-07-17T14:03:35.314415Z",
     "iopub.status.busy": "2023-07-17T14:03:35.313013Z",
     "iopub.status.idle": "2023-07-17T14:03:49.949847Z",
     "shell.execute_reply": "2023-07-17T14:03:49.949004Z"
    },
    "papermill": {
     "duration": 14.650914,
     "end_time": "2023-07-17T14:03:49.952218",
     "exception": false,
     "start_time": "2023-07-17T14:03:35.301304",
     "status": "completed"
    },
    "tags": []
   },
   "outputs": [
    {
     "name": "stdout",
     "output_type": "stream",
     "text": [
      "Test accuracy: 0.8202247191011236\n"
     ]
    }
   ],
   "source": [
    "# Create an XGBoost classifier\n",
    "xgb = XGBClassifier()\n",
    "\n",
    "# Define the parameter grid for grid search\n",
    "param_grid = {\n",
    "    'n_estimators': [100, 200, 300],\n",
    "    'learning_rate': [0.1, 0.01, 0.001],\n",
    "    'max_depth': [3, 4, 5]\n",
    "}\n",
    "\n",
    "# Create an instance of GridSearchCV\n",
    "grid_search = GridSearchCV(xgb, param_grid, cv=5)\n",
    "\n",
    "# Perform grid search with cross-validation\n",
    "grid_search.fit(x_train, y_train)\n",
    "\n",
    "# Get the best estimator from grid search\n",
    "best_xgb = grid_search.best_estimator_\n",
    "\n",
    "# Evaluate the best estimator on the test set\n",
    "test_accuracy = best_xgb.score(x_test, y_test)\n",
    "\n",
    "# Print the test accuracy\n",
    "print(\"Test accuracy:\", test_accuracy)"
   ]
  },
  {
   "cell_type": "markdown",
   "id": "3b74ea15",
   "metadata": {
    "papermill": {
     "duration": 0.010635,
     "end_time": "2023-07-17T14:03:49.975304",
     "exception": false,
     "start_time": "2023-07-17T14:03:49.964669",
     "status": "completed"
    },
    "tags": []
   },
   "source": [
    "this is more better\n",
    "making final predictions using this model"
   ]
  },
  {
   "cell_type": "markdown",
   "id": "d023be2b",
   "metadata": {
    "papermill": {
     "duration": 0.010506,
     "end_time": "2023-07-17T14:03:49.996643",
     "exception": false,
     "start_time": "2023-07-17T14:03:49.986137",
     "status": "completed"
    },
    "tags": []
   },
   "source": [
    "# now to make prediction on actual test dataset"
   ]
  },
  {
   "cell_type": "markdown",
   "id": "5c4c8d90",
   "metadata": {
    "papermill": {
     "duration": 0.010937,
     "end_time": "2023-07-17T14:03:50.018497",
     "exception": false,
     "start_time": "2023-07-17T14:03:50.007560",
     "status": "completed"
    },
    "tags": []
   },
   "source": [
    "# *Importing and preprocessing the test data*"
   ]
  },
  {
   "cell_type": "code",
   "execution_count": 22,
   "id": "96eb4cad",
   "metadata": {
    "execution": {
     "iopub.execute_input": "2023-07-17T14:03:50.041471Z",
     "iopub.status.busy": "2023-07-17T14:03:50.041169Z",
     "iopub.status.idle": "2023-07-17T14:03:50.064822Z",
     "shell.execute_reply": "2023-07-17T14:03:50.063798Z"
    },
    "papermill": {
     "duration": 0.037647,
     "end_time": "2023-07-17T14:03:50.067154",
     "exception": false,
     "start_time": "2023-07-17T14:03:50.029507",
     "status": "completed"
    },
    "tags": []
   },
   "outputs": [
    {
     "data": {
      "text/html": [
       "<div>\n",
       "<style scoped>\n",
       "    .dataframe tbody tr th:only-of-type {\n",
       "        vertical-align: middle;\n",
       "    }\n",
       "\n",
       "    .dataframe tbody tr th {\n",
       "        vertical-align: top;\n",
       "    }\n",
       "\n",
       "    .dataframe thead th {\n",
       "        text-align: right;\n",
       "    }\n",
       "</style>\n",
       "<table border=\"1\" class=\"dataframe\">\n",
       "  <thead>\n",
       "    <tr style=\"text-align: right;\">\n",
       "      <th></th>\n",
       "      <th>PassengerId</th>\n",
       "      <th>Pclass</th>\n",
       "      <th>Name</th>\n",
       "      <th>Sex</th>\n",
       "      <th>Age</th>\n",
       "      <th>SibSp</th>\n",
       "      <th>Parch</th>\n",
       "      <th>Ticket</th>\n",
       "      <th>Fare</th>\n",
       "      <th>Cabin</th>\n",
       "      <th>Embarked</th>\n",
       "    </tr>\n",
       "  </thead>\n",
       "  <tbody>\n",
       "    <tr>\n",
       "      <th>0</th>\n",
       "      <td>892</td>\n",
       "      <td>3</td>\n",
       "      <td>Kelly, Mr. James</td>\n",
       "      <td>male</td>\n",
       "      <td>34.5</td>\n",
       "      <td>0</td>\n",
       "      <td>0</td>\n",
       "      <td>330911</td>\n",
       "      <td>7.8292</td>\n",
       "      <td>NaN</td>\n",
       "      <td>Q</td>\n",
       "    </tr>\n",
       "    <tr>\n",
       "      <th>1</th>\n",
       "      <td>893</td>\n",
       "      <td>3</td>\n",
       "      <td>Wilkes, Mrs. James (Ellen Needs)</td>\n",
       "      <td>female</td>\n",
       "      <td>47.0</td>\n",
       "      <td>1</td>\n",
       "      <td>0</td>\n",
       "      <td>363272</td>\n",
       "      <td>7.0000</td>\n",
       "      <td>NaN</td>\n",
       "      <td>S</td>\n",
       "    </tr>\n",
       "    <tr>\n",
       "      <th>2</th>\n",
       "      <td>894</td>\n",
       "      <td>2</td>\n",
       "      <td>Myles, Mr. Thomas Francis</td>\n",
       "      <td>male</td>\n",
       "      <td>62.0</td>\n",
       "      <td>0</td>\n",
       "      <td>0</td>\n",
       "      <td>240276</td>\n",
       "      <td>9.6875</td>\n",
       "      <td>NaN</td>\n",
       "      <td>Q</td>\n",
       "    </tr>\n",
       "    <tr>\n",
       "      <th>3</th>\n",
       "      <td>895</td>\n",
       "      <td>3</td>\n",
       "      <td>Wirz, Mr. Albert</td>\n",
       "      <td>male</td>\n",
       "      <td>27.0</td>\n",
       "      <td>0</td>\n",
       "      <td>0</td>\n",
       "      <td>315154</td>\n",
       "      <td>8.6625</td>\n",
       "      <td>NaN</td>\n",
       "      <td>S</td>\n",
       "    </tr>\n",
       "    <tr>\n",
       "      <th>4</th>\n",
       "      <td>896</td>\n",
       "      <td>3</td>\n",
       "      <td>Hirvonen, Mrs. Alexander (Helga E Lindqvist)</td>\n",
       "      <td>female</td>\n",
       "      <td>22.0</td>\n",
       "      <td>1</td>\n",
       "      <td>1</td>\n",
       "      <td>3101298</td>\n",
       "      <td>12.2875</td>\n",
       "      <td>NaN</td>\n",
       "      <td>S</td>\n",
       "    </tr>\n",
       "  </tbody>\n",
       "</table>\n",
       "</div>"
      ],
      "text/plain": [
       "   PassengerId  Pclass                                          Name     Sex  \\\n",
       "0          892       3                              Kelly, Mr. James    male   \n",
       "1          893       3              Wilkes, Mrs. James (Ellen Needs)  female   \n",
       "2          894       2                     Myles, Mr. Thomas Francis    male   \n",
       "3          895       3                              Wirz, Mr. Albert    male   \n",
       "4          896       3  Hirvonen, Mrs. Alexander (Helga E Lindqvist)  female   \n",
       "\n",
       "    Age  SibSp  Parch   Ticket     Fare Cabin Embarked  \n",
       "0  34.5      0      0   330911   7.8292   NaN        Q  \n",
       "1  47.0      1      0   363272   7.0000   NaN        S  \n",
       "2  62.0      0      0   240276   9.6875   NaN        Q  \n",
       "3  27.0      0      0   315154   8.6625   NaN        S  \n",
       "4  22.0      1      1  3101298  12.2875   NaN        S  "
      ]
     },
     "execution_count": 22,
     "metadata": {},
     "output_type": "execute_result"
    }
   ],
   "source": [
    "#importing two instances\n",
    "testdf1=pd.read_csv('/kaggle/input/titanic/test.csv')\n",
    "testdf2=pd.read_csv('/kaggle/input/titanic/test.csv')\n",
    "testdf1.head()"
   ]
  },
  {
   "cell_type": "code",
   "execution_count": 23,
   "id": "5da564f8",
   "metadata": {
    "execution": {
     "iopub.execute_input": "2023-07-17T14:03:50.090471Z",
     "iopub.status.busy": "2023-07-17T14:03:50.090204Z",
     "iopub.status.idle": "2023-07-17T14:03:50.099969Z",
     "shell.execute_reply": "2023-07-17T14:03:50.098974Z"
    },
    "papermill": {
     "duration": 0.024419,
     "end_time": "2023-07-17T14:03:50.102800",
     "exception": false,
     "start_time": "2023-07-17T14:03:50.078381",
     "status": "completed"
    },
    "tags": []
   },
   "outputs": [
    {
     "name": "stdout",
     "output_type": "stream",
     "text": [
      "Pclass       0\n",
      "Sex          0\n",
      "Age         86\n",
      "SibSp        0\n",
      "Parch        0\n",
      "Fare         1\n",
      "Embarked     0\n",
      "dtype: int64\n"
     ]
    }
   ],
   "source": [
    "# doing the same steps as on the previous training data set \n",
    "\n",
    "# dropping irrelevant columns\n",
    "testdf1.drop(['PassengerId','Name','Ticket','Cabin'],axis=1,inplace=True)\n",
    "\n",
    "#label encoding 'Sex' and 'Embarked' columns\n",
    "testdf1.Sex=le.fit_transform(testdf1.Sex)\n",
    "testdf1.Embarked=le.fit_transform(testdf1.Embarked)\n",
    "\n",
    "#Checking for any blank values\n",
    "print(testdf1.isnull().sum())"
   ]
  },
  {
   "cell_type": "code",
   "execution_count": 24,
   "id": "de904920",
   "metadata": {
    "execution": {
     "iopub.execute_input": "2023-07-17T14:03:50.126809Z",
     "iopub.status.busy": "2023-07-17T14:03:50.126499Z",
     "iopub.status.idle": "2023-07-17T14:03:50.132574Z",
     "shell.execute_reply": "2023-07-17T14:03:50.131699Z"
    },
    "papermill": {
     "duration": 0.020068,
     "end_time": "2023-07-17T14:03:50.134627",
     "exception": false,
     "start_time": "2023-07-17T14:03:50.114559",
     "status": "completed"
    },
    "tags": []
   },
   "outputs": [],
   "source": [
    "# filling null values\n",
    "testdf1.Age.fillna(int(testdf1.Age.mean()),inplace=True)\n",
    "testdf1.Fare.fillna(int(testdf1.Fare.mean()),inplace=True)"
   ]
  },
  {
   "cell_type": "code",
   "execution_count": 25,
   "id": "4a8a92f8",
   "metadata": {
    "execution": {
     "iopub.execute_input": "2023-07-17T14:03:50.159275Z",
     "iopub.status.busy": "2023-07-17T14:03:50.157866Z",
     "iopub.status.idle": "2023-07-17T14:03:50.166675Z",
     "shell.execute_reply": "2023-07-17T14:03:50.165586Z"
    },
    "papermill": {
     "duration": 0.02294,
     "end_time": "2023-07-17T14:03:50.168924",
     "exception": false,
     "start_time": "2023-07-17T14:03:50.145984",
     "status": "completed"
    },
    "tags": []
   },
   "outputs": [
    {
     "data": {
      "text/plain": [
       "Pclass      False\n",
       "Sex         False\n",
       "Age         False\n",
       "SibSp       False\n",
       "Parch       False\n",
       "Fare        False\n",
       "Embarked    False\n",
       "dtype: bool"
      ]
     },
     "execution_count": 25,
     "metadata": {},
     "output_type": "execute_result"
    }
   ],
   "source": [
    "#again checking for any null values\n",
    "testdf1.isnull().any()"
   ]
  },
  {
   "cell_type": "code",
   "execution_count": 26,
   "id": "f5d845b6",
   "metadata": {
    "execution": {
     "iopub.execute_input": "2023-07-17T14:03:50.194695Z",
     "iopub.status.busy": "2023-07-17T14:03:50.194431Z",
     "iopub.status.idle": "2023-07-17T14:03:50.208113Z",
     "shell.execute_reply": "2023-07-17T14:03:50.207061Z"
    },
    "papermill": {
     "duration": 0.029131,
     "end_time": "2023-07-17T14:03:50.210459",
     "exception": false,
     "start_time": "2023-07-17T14:03:50.181328",
     "status": "completed"
    },
    "tags": []
   },
   "outputs": [
    {
     "data": {
      "text/html": [
       "<div>\n",
       "<style scoped>\n",
       "    .dataframe tbody tr th:only-of-type {\n",
       "        vertical-align: middle;\n",
       "    }\n",
       "\n",
       "    .dataframe tbody tr th {\n",
       "        vertical-align: top;\n",
       "    }\n",
       "\n",
       "    .dataframe thead th {\n",
       "        text-align: right;\n",
       "    }\n",
       "</style>\n",
       "<table border=\"1\" class=\"dataframe\">\n",
       "  <thead>\n",
       "    <tr style=\"text-align: right;\">\n",
       "      <th></th>\n",
       "      <th>Pclass</th>\n",
       "      <th>Sex</th>\n",
       "      <th>Age</th>\n",
       "      <th>SibSp</th>\n",
       "      <th>Parch</th>\n",
       "      <th>Fare</th>\n",
       "      <th>Embarked</th>\n",
       "    </tr>\n",
       "  </thead>\n",
       "  <tbody>\n",
       "    <tr>\n",
       "      <th>0</th>\n",
       "      <td>3</td>\n",
       "      <td>1</td>\n",
       "      <td>34.5</td>\n",
       "      <td>0</td>\n",
       "      <td>0</td>\n",
       "      <td>7.8292</td>\n",
       "      <td>1</td>\n",
       "    </tr>\n",
       "    <tr>\n",
       "      <th>1</th>\n",
       "      <td>3</td>\n",
       "      <td>0</td>\n",
       "      <td>47.0</td>\n",
       "      <td>1</td>\n",
       "      <td>0</td>\n",
       "      <td>7.0000</td>\n",
       "      <td>2</td>\n",
       "    </tr>\n",
       "    <tr>\n",
       "      <th>2</th>\n",
       "      <td>2</td>\n",
       "      <td>1</td>\n",
       "      <td>62.0</td>\n",
       "      <td>0</td>\n",
       "      <td>0</td>\n",
       "      <td>9.6875</td>\n",
       "      <td>1</td>\n",
       "    </tr>\n",
       "    <tr>\n",
       "      <th>3</th>\n",
       "      <td>3</td>\n",
       "      <td>1</td>\n",
       "      <td>27.0</td>\n",
       "      <td>0</td>\n",
       "      <td>0</td>\n",
       "      <td>8.6625</td>\n",
       "      <td>2</td>\n",
       "    </tr>\n",
       "    <tr>\n",
       "      <th>4</th>\n",
       "      <td>3</td>\n",
       "      <td>0</td>\n",
       "      <td>22.0</td>\n",
       "      <td>1</td>\n",
       "      <td>1</td>\n",
       "      <td>12.2875</td>\n",
       "      <td>2</td>\n",
       "    </tr>\n",
       "  </tbody>\n",
       "</table>\n",
       "</div>"
      ],
      "text/plain": [
       "   Pclass  Sex   Age  SibSp  Parch     Fare  Embarked\n",
       "0       3    1  34.5      0      0   7.8292         1\n",
       "1       3    0  47.0      1      0   7.0000         2\n",
       "2       2    1  62.0      0      0   9.6875         1\n",
       "3       3    1  27.0      0      0   8.6625         2\n",
       "4       3    0  22.0      1      1  12.2875         2"
      ]
     },
     "execution_count": 26,
     "metadata": {},
     "output_type": "execute_result"
    }
   ],
   "source": [
    "#looking at the dataset\n",
    "testdf1.head()"
   ]
  },
  {
   "cell_type": "markdown",
   "id": "c6db08d9",
   "metadata": {
    "papermill": {
     "duration": 0.011671,
     "end_time": "2023-07-17T14:03:50.234988",
     "exception": false,
     "start_time": "2023-07-17T14:03:50.223317",
     "status": "completed"
    },
    "tags": []
   },
   "source": [
    "# *Finally predicting on the test data*"
   ]
  },
  {
   "cell_type": "code",
   "execution_count": 27,
   "id": "0db07da4",
   "metadata": {
    "execution": {
     "iopub.execute_input": "2023-07-17T14:03:50.259020Z",
     "iopub.status.busy": "2023-07-17T14:03:50.258751Z",
     "iopub.status.idle": "2023-07-17T14:03:50.267780Z",
     "shell.execute_reply": "2023-07-17T14:03:50.266916Z"
    },
    "papermill": {
     "duration": 0.023708,
     "end_time": "2023-07-17T14:03:50.270227",
     "exception": false,
     "start_time": "2023-07-17T14:03:50.246519",
     "status": "completed"
    },
    "tags": []
   },
   "outputs": [],
   "source": [
    "predictions=best_xgb.predict(testdf1)"
   ]
  },
  {
   "cell_type": "code",
   "execution_count": 28,
   "id": "656dcb60",
   "metadata": {
    "execution": {
     "iopub.execute_input": "2023-07-17T14:03:50.295672Z",
     "iopub.status.busy": "2023-07-17T14:03:50.295396Z",
     "iopub.status.idle": "2023-07-17T14:03:50.304697Z",
     "shell.execute_reply": "2023-07-17T14:03:50.303801Z"
    },
    "papermill": {
     "duration": 0.023518,
     "end_time": "2023-07-17T14:03:50.306678",
     "exception": false,
     "start_time": "2023-07-17T14:03:50.283160",
     "status": "completed"
    },
    "tags": []
   },
   "outputs": [
    {
     "data": {
      "text/html": [
       "<div>\n",
       "<style scoped>\n",
       "    .dataframe tbody tr th:only-of-type {\n",
       "        vertical-align: middle;\n",
       "    }\n",
       "\n",
       "    .dataframe tbody tr th {\n",
       "        vertical-align: top;\n",
       "    }\n",
       "\n",
       "    .dataframe thead th {\n",
       "        text-align: right;\n",
       "    }\n",
       "</style>\n",
       "<table border=\"1\" class=\"dataframe\">\n",
       "  <thead>\n",
       "    <tr style=\"text-align: right;\">\n",
       "      <th></th>\n",
       "      <th>PassengerID</th>\n",
       "      <th>Survived</th>\n",
       "    </tr>\n",
       "  </thead>\n",
       "  <tbody>\n",
       "    <tr>\n",
       "      <th>0</th>\n",
       "      <td>892</td>\n",
       "      <td>0</td>\n",
       "    </tr>\n",
       "    <tr>\n",
       "      <th>1</th>\n",
       "      <td>893</td>\n",
       "      <td>1</td>\n",
       "    </tr>\n",
       "    <tr>\n",
       "      <th>2</th>\n",
       "      <td>894</td>\n",
       "      <td>0</td>\n",
       "    </tr>\n",
       "    <tr>\n",
       "      <th>3</th>\n",
       "      <td>895</td>\n",
       "      <td>0</td>\n",
       "    </tr>\n",
       "    <tr>\n",
       "      <th>4</th>\n",
       "      <td>896</td>\n",
       "      <td>1</td>\n",
       "    </tr>\n",
       "  </tbody>\n",
       "</table>\n",
       "</div>"
      ],
      "text/plain": [
       "   PassengerID  Survived\n",
       "0          892         0\n",
       "1          893         1\n",
       "2          894         0\n",
       "3          895         0\n",
       "4          896         1"
      ]
     },
     "execution_count": 28,
     "metadata": {},
     "output_type": "execute_result"
    }
   ],
   "source": [
    "#creating a dataframe from the predictions with respect to Passenger Id\n",
    "data={'PassengerID':testdf2.PassengerId,\n",
    "     'Survived':predictions}\n",
    "xgbpredictionsfinal=pd.DataFrame(data)\n",
    "\n",
    "#viewing the dataframe\n",
    "xgbpredictionsfinal.head()"
   ]
  },
  {
   "cell_type": "code",
   "execution_count": 29,
   "id": "a8548370",
   "metadata": {
    "execution": {
     "iopub.execute_input": "2023-07-17T14:03:50.331947Z",
     "iopub.status.busy": "2023-07-17T14:03:50.331221Z",
     "iopub.status.idle": "2023-07-17T14:03:50.338572Z",
     "shell.execute_reply": "2023-07-17T14:03:50.337729Z"
    },
    "papermill": {
     "duration": 0.021629,
     "end_time": "2023-07-17T14:03:50.340473",
     "exception": false,
     "start_time": "2023-07-17T14:03:50.318844",
     "status": "completed"
    },
    "tags": []
   },
   "outputs": [],
   "source": [
    "#exporting a csv file of the predictions\n",
    "xgbpredictionsfinal.to_csv( ' xgbpredictionsfinal.csv',index=False)"
   ]
  }
 ],
 "metadata": {
  "kernelspec": {
   "display_name": "Python 3",
   "language": "python",
   "name": "python3"
  },
  "language_info": {
   "codemirror_mode": {
    "name": "ipython",
    "version": 3
   },
   "file_extension": ".py",
   "mimetype": "text/x-python",
   "name": "python",
   "nbconvert_exporter": "python",
   "pygments_lexer": "ipython3",
   "version": "3.10.12"
  },
  "papermill": {
   "default_parameters": {},
   "duration": 269.732044,
   "end_time": "2023-07-17T14:03:51.071542",
   "environment_variables": {},
   "exception": null,
   "input_path": "__notebook__.ipynb",
   "output_path": "__notebook__.ipynb",
   "parameters": {},
   "start_time": "2023-07-17T13:59:21.339498",
   "version": "2.4.0"
  }
 },
 "nbformat": 4,
 "nbformat_minor": 5
}
