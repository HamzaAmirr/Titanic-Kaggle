{
 "cells": [
  {
   "cell_type": "code",
   "execution_count": 1,
   "id": "4cfb262e",
   "metadata": {
    "_cell_guid": "b1076dfc-b9ad-4769-8c92-a6c4dae69d19",
    "_uuid": "8f2839f25d086af736a60e9eeb907d3b93b6e0e5",
    "execution": {
     "iopub.execute_input": "2023-07-17T13:37:46.106463Z",
     "iopub.status.busy": "2023-07-17T13:37:46.106064Z",
     "iopub.status.idle": "2023-07-17T13:37:46.119326Z",
     "shell.execute_reply": "2023-07-17T13:37:46.118112Z"
    },
    "papermill": {
     "duration": 0.027593,
     "end_time": "2023-07-17T13:37:46.121660",
     "exception": false,
     "start_time": "2023-07-17T13:37:46.094067",
     "status": "completed"
    },
    "tags": []
   },
   "outputs": [
    {
     "name": "stdout",
     "output_type": "stream",
     "text": [
      "/kaggle/input/titanic/train.csv\n",
      "/kaggle/input/titanic/test.csv\n",
      "/kaggle/input/titanic/gender_submission.csv\n"
     ]
    }
   ],
   "source": [
    "# This Python 3 environment comes with many helpful analytics libraries installed\n",
    "# It is defined by the kaggle/python Docker image: https://github.com/kaggle/docker-python\n",
    "# For example, here's several helpful packages to load\n",
    "\n",
    "import numpy as np # linear algebra\n",
    "import pandas as pd # data processing, CSV file I/O (e.g. pd.read_csv)\n",
    "\n",
    "# Input data files are available in the read-only \"../input/\" directory\n",
    "# For example, running this (by clicking run or pressing Shift+Enter) will list all files under the input directory\n",
    "\n",
    "import os\n",
    "for dirname, _, filenames in os.walk('/kaggle/input'):\n",
    "    for filename in filenames:\n",
    "        print(os.path.join(dirname, filename))\n",
    "\n",
    "# You can write up to 20GB to the current directory (/kaggle/working/) that gets preserved as output when you create a version using \"Save & Run All\" \n",
    "# You can also write temporary files to /kaggle/temp/, but they won't be saved outside of the current session"
   ]
  },
  {
   "cell_type": "markdown",
   "id": "6e04c051",
   "metadata": {
    "papermill": {
     "duration": 0.00779,
     "end_time": "2023-07-17T13:37:46.137887",
     "exception": false,
     "start_time": "2023-07-17T13:37:46.130097",
     "status": "completed"
    },
    "tags": []
   },
   "source": [
    "# **Importing nessecary libraries**"
   ]
  },
  {
   "cell_type": "code",
   "execution_count": 2,
   "id": "4de3f668",
   "metadata": {
    "execution": {
     "iopub.execute_input": "2023-07-17T13:37:46.157905Z",
     "iopub.status.busy": "2023-07-17T13:37:46.157220Z",
     "iopub.status.idle": "2023-07-17T13:37:47.670286Z",
     "shell.execute_reply": "2023-07-17T13:37:47.668348Z"
    },
    "papermill": {
     "duration": 1.525275,
     "end_time": "2023-07-17T13:37:47.672962",
     "exception": false,
     "start_time": "2023-07-17T13:37:46.147687",
     "status": "completed"
    },
    "tags": []
   },
   "outputs": [
    {
     "name": "stderr",
     "output_type": "stream",
     "text": [
      "/opt/conda/lib/python3.10/site-packages/scipy/__init__.py:146: UserWarning: A NumPy version >=1.16.5 and <1.23.0 is required for this version of SciPy (detected version 1.23.5\n",
      "  warnings.warn(f\"A NumPy version >={np_minversion} and <{np_maxversion}\"\n"
     ]
    }
   ],
   "source": [
    "import pandas as pd\n",
    "import numpy as np\n",
    "from sklearn.preprocessing import LabelEncoder\n",
    "from sklearn.model_selection import train_test_split \n",
    "from sklearn.svm import SVC\n",
    "from xgboost import XGBClassifier\n",
    "from sklearn.naive_bayes import GaussianNB\n",
    "from sklearn.model_selection import cross_val_score,GridSearchCV"
   ]
  },
  {
   "cell_type": "markdown",
   "id": "4eb64c3b",
   "metadata": {
    "papermill": {
     "duration": 0.007996,
     "end_time": "2023-07-17T13:37:47.689511",
     "exception": false,
     "start_time": "2023-07-17T13:37:47.681515",
     "status": "completed"
    },
    "tags": []
   },
   "source": [
    "# Data importing and preprocessing"
   ]
  },
  {
   "cell_type": "code",
   "execution_count": 3,
   "id": "5f9e6892",
   "metadata": {
    "execution": {
     "iopub.execute_input": "2023-07-17T13:37:47.708240Z",
     "iopub.status.busy": "2023-07-17T13:37:47.707526Z",
     "iopub.status.idle": "2023-07-17T13:37:47.738001Z",
     "shell.execute_reply": "2023-07-17T13:37:47.736878Z"
    },
    "papermill": {
     "duration": 0.042235,
     "end_time": "2023-07-17T13:37:47.740139",
     "exception": false,
     "start_time": "2023-07-17T13:37:47.697904",
     "status": "completed"
    },
    "tags": []
   },
   "outputs": [
    {
     "data": {
      "text/plain": [
       "Index(['PassengerId', 'Survived', 'Pclass', 'Name', 'Sex', 'Age', 'SibSp',\n",
       "       'Parch', 'Ticket', 'Fare', 'Cabin', 'Embarked'],\n",
       "      dtype='object')"
      ]
     },
     "execution_count": 3,
     "metadata": {},
     "output_type": "execute_result"
    }
   ],
   "source": [
    "traindf1=pd.read_csv('/kaggle/input/titanic/train.csv')\n",
    "traindf1.columns"
   ]
  },
  {
   "cell_type": "code",
   "execution_count": 4,
   "id": "ee7236c5",
   "metadata": {
    "execution": {
     "iopub.execute_input": "2023-07-17T13:37:47.759889Z",
     "iopub.status.busy": "2023-07-17T13:37:47.758906Z",
     "iopub.status.idle": "2023-07-17T13:37:47.784620Z",
     "shell.execute_reply": "2023-07-17T13:37:47.783470Z"
    },
    "papermill": {
     "duration": 0.038047,
     "end_time": "2023-07-17T13:37:47.786747",
     "exception": false,
     "start_time": "2023-07-17T13:37:47.748700",
     "status": "completed"
    },
    "tags": []
   },
   "outputs": [
    {
     "data": {
      "text/html": [
       "<div>\n",
       "<style scoped>\n",
       "    .dataframe tbody tr th:only-of-type {\n",
       "        vertical-align: middle;\n",
       "    }\n",
       "\n",
       "    .dataframe tbody tr th {\n",
       "        vertical-align: top;\n",
       "    }\n",
       "\n",
       "    .dataframe thead th {\n",
       "        text-align: right;\n",
       "    }\n",
       "</style>\n",
       "<table border=\"1\" class=\"dataframe\">\n",
       "  <thead>\n",
       "    <tr style=\"text-align: right;\">\n",
       "      <th></th>\n",
       "      <th>PassengerId</th>\n",
       "      <th>Survived</th>\n",
       "      <th>Pclass</th>\n",
       "      <th>Name</th>\n",
       "      <th>Sex</th>\n",
       "      <th>Age</th>\n",
       "      <th>SibSp</th>\n",
       "      <th>Parch</th>\n",
       "      <th>Ticket</th>\n",
       "      <th>Fare</th>\n",
       "      <th>Cabin</th>\n",
       "      <th>Embarked</th>\n",
       "    </tr>\n",
       "  </thead>\n",
       "  <tbody>\n",
       "    <tr>\n",
       "      <th>0</th>\n",
       "      <td>1</td>\n",
       "      <td>0</td>\n",
       "      <td>3</td>\n",
       "      <td>Braund, Mr. Owen Harris</td>\n",
       "      <td>male</td>\n",
       "      <td>22.0</td>\n",
       "      <td>1</td>\n",
       "      <td>0</td>\n",
       "      <td>A/5 21171</td>\n",
       "      <td>7.2500</td>\n",
       "      <td>NaN</td>\n",
       "      <td>S</td>\n",
       "    </tr>\n",
       "    <tr>\n",
       "      <th>1</th>\n",
       "      <td>2</td>\n",
       "      <td>1</td>\n",
       "      <td>1</td>\n",
       "      <td>Cumings, Mrs. John Bradley (Florence Briggs Th...</td>\n",
       "      <td>female</td>\n",
       "      <td>38.0</td>\n",
       "      <td>1</td>\n",
       "      <td>0</td>\n",
       "      <td>PC 17599</td>\n",
       "      <td>71.2833</td>\n",
       "      <td>C85</td>\n",
       "      <td>C</td>\n",
       "    </tr>\n",
       "    <tr>\n",
       "      <th>2</th>\n",
       "      <td>3</td>\n",
       "      <td>1</td>\n",
       "      <td>3</td>\n",
       "      <td>Heikkinen, Miss. Laina</td>\n",
       "      <td>female</td>\n",
       "      <td>26.0</td>\n",
       "      <td>0</td>\n",
       "      <td>0</td>\n",
       "      <td>STON/O2. 3101282</td>\n",
       "      <td>7.9250</td>\n",
       "      <td>NaN</td>\n",
       "      <td>S</td>\n",
       "    </tr>\n",
       "    <tr>\n",
       "      <th>3</th>\n",
       "      <td>4</td>\n",
       "      <td>1</td>\n",
       "      <td>1</td>\n",
       "      <td>Futrelle, Mrs. Jacques Heath (Lily May Peel)</td>\n",
       "      <td>female</td>\n",
       "      <td>35.0</td>\n",
       "      <td>1</td>\n",
       "      <td>0</td>\n",
       "      <td>113803</td>\n",
       "      <td>53.1000</td>\n",
       "      <td>C123</td>\n",
       "      <td>S</td>\n",
       "    </tr>\n",
       "    <tr>\n",
       "      <th>4</th>\n",
       "      <td>5</td>\n",
       "      <td>0</td>\n",
       "      <td>3</td>\n",
       "      <td>Allen, Mr. William Henry</td>\n",
       "      <td>male</td>\n",
       "      <td>35.0</td>\n",
       "      <td>0</td>\n",
       "      <td>0</td>\n",
       "      <td>373450</td>\n",
       "      <td>8.0500</td>\n",
       "      <td>NaN</td>\n",
       "      <td>S</td>\n",
       "    </tr>\n",
       "  </tbody>\n",
       "</table>\n",
       "</div>"
      ],
      "text/plain": [
       "   PassengerId  Survived  Pclass  \\\n",
       "0            1         0       3   \n",
       "1            2         1       1   \n",
       "2            3         1       3   \n",
       "3            4         1       1   \n",
       "4            5         0       3   \n",
       "\n",
       "                                                Name     Sex   Age  SibSp  \\\n",
       "0                            Braund, Mr. Owen Harris    male  22.0      1   \n",
       "1  Cumings, Mrs. John Bradley (Florence Briggs Th...  female  38.0      1   \n",
       "2                             Heikkinen, Miss. Laina  female  26.0      0   \n",
       "3       Futrelle, Mrs. Jacques Heath (Lily May Peel)  female  35.0      1   \n",
       "4                           Allen, Mr. William Henry    male  35.0      0   \n",
       "\n",
       "   Parch            Ticket     Fare Cabin Embarked  \n",
       "0      0         A/5 21171   7.2500   NaN        S  \n",
       "1      0          PC 17599  71.2833   C85        C  \n",
       "2      0  STON/O2. 3101282   7.9250   NaN        S  \n",
       "3      0            113803  53.1000  C123        S  \n",
       "4      0            373450   8.0500   NaN        S  "
      ]
     },
     "execution_count": 4,
     "metadata": {},
     "output_type": "execute_result"
    }
   ],
   "source": [
    "traindf1.head()"
   ]
  },
  {
   "cell_type": "code",
   "execution_count": 5,
   "id": "52a08307",
   "metadata": {
    "execution": {
     "iopub.execute_input": "2023-07-17T13:37:47.806496Z",
     "iopub.status.busy": "2023-07-17T13:37:47.805752Z",
     "iopub.status.idle": "2023-07-17T13:37:47.810230Z",
     "shell.execute_reply": "2023-07-17T13:37:47.809229Z"
    },
    "papermill": {
     "duration": 0.016809,
     "end_time": "2023-07-17T13:37:47.812540",
     "exception": false,
     "start_time": "2023-07-17T13:37:47.795731",
     "status": "completed"
    },
    "tags": []
   },
   "outputs": [],
   "source": [
    "#creating a new dataframe to edit without loosing orignal\n",
    "traindf2=traindf1"
   ]
  },
  {
   "cell_type": "code",
   "execution_count": 6,
   "id": "9aabbba1",
   "metadata": {
    "execution": {
     "iopub.execute_input": "2023-07-17T13:37:47.832062Z",
     "iopub.status.busy": "2023-07-17T13:37:47.831399Z",
     "iopub.status.idle": "2023-07-17T13:37:47.842211Z",
     "shell.execute_reply": "2023-07-17T13:37:47.841101Z"
    },
    "papermill": {
     "duration": 0.023154,
     "end_time": "2023-07-17T13:37:47.844691",
     "exception": false,
     "start_time": "2023-07-17T13:37:47.821537",
     "status": "completed"
    },
    "tags": []
   },
   "outputs": [],
   "source": [
    "#dropping columns which are not required in training\n",
    "traindf2.drop(['PassengerId','Name','Ticket'],axis=1,inplace=True)"
   ]
  },
  {
   "cell_type": "code",
   "execution_count": 7,
   "id": "a090d1ea",
   "metadata": {
    "execution": {
     "iopub.execute_input": "2023-07-17T13:37:47.863820Z",
     "iopub.status.busy": "2023-07-17T13:37:47.863449Z",
     "iopub.status.idle": "2023-07-17T13:37:47.871950Z",
     "shell.execute_reply": "2023-07-17T13:37:47.871144Z"
    },
    "papermill": {
     "duration": 0.020579,
     "end_time": "2023-07-17T13:37:47.873908",
     "exception": false,
     "start_time": "2023-07-17T13:37:47.853329",
     "status": "completed"
    },
    "tags": []
   },
   "outputs": [
    {
     "data": {
      "text/plain": [
       "Survived      0\n",
       "Pclass        0\n",
       "Sex           0\n",
       "Age         177\n",
       "SibSp         0\n",
       "Parch         0\n",
       "Fare          0\n",
       "Cabin       687\n",
       "Embarked      2\n",
       "dtype: int64"
      ]
     },
     "execution_count": 7,
     "metadata": {},
     "output_type": "execute_result"
    }
   ],
   "source": [
    "#checking for null values in each column\n",
    "traindf2.isnull().sum()"
   ]
  },
  {
   "cell_type": "code",
   "execution_count": 8,
   "id": "2f0ec3a0",
   "metadata": {
    "execution": {
     "iopub.execute_input": "2023-07-17T13:37:47.893913Z",
     "iopub.status.busy": "2023-07-17T13:37:47.893194Z",
     "iopub.status.idle": "2023-07-17T13:37:47.900338Z",
     "shell.execute_reply": "2023-07-17T13:37:47.899187Z"
    },
    "papermill": {
     "duration": 0.019766,
     "end_time": "2023-07-17T13:37:47.902759",
     "exception": false,
     "start_time": "2023-07-17T13:37:47.882993",
     "status": "completed"
    },
    "tags": []
   },
   "outputs": [],
   "source": [
    "#also dropping Cabin because out of around 900 values 700 are null so can't manage that much null values\n",
    "traindf2.drop('Cabin',axis=1,inplace=True)"
   ]
  },
  {
   "cell_type": "code",
   "execution_count": 9,
   "id": "7d388c1a",
   "metadata": {
    "execution": {
     "iopub.execute_input": "2023-07-17T13:37:47.922435Z",
     "iopub.status.busy": "2023-07-17T13:37:47.922044Z",
     "iopub.status.idle": "2023-07-17T13:37:47.928364Z",
     "shell.execute_reply": "2023-07-17T13:37:47.927358Z"
    },
    "papermill": {
     "duration": 0.019356,
     "end_time": "2023-07-17T13:37:47.930947",
     "exception": false,
     "start_time": "2023-07-17T13:37:47.911591",
     "status": "completed"
    },
    "tags": []
   },
   "outputs": [],
   "source": [
    "# filling all null values in age by the mean age\n",
    "traindf2.Age.fillna(int(traindf2.Age.mean()),inplace=True)"
   ]
  },
  {
   "cell_type": "code",
   "execution_count": 10,
   "id": "3326beea",
   "metadata": {
    "execution": {
     "iopub.execute_input": "2023-07-17T13:37:47.950616Z",
     "iopub.status.busy": "2023-07-17T13:37:47.950263Z",
     "iopub.status.idle": "2023-07-17T13:37:47.959122Z",
     "shell.execute_reply": "2023-07-17T13:37:47.958089Z"
    },
    "papermill": {
     "duration": 0.021282,
     "end_time": "2023-07-17T13:37:47.961276",
     "exception": false,
     "start_time": "2023-07-17T13:37:47.939994",
     "status": "completed"
    },
    "tags": []
   },
   "outputs": [
    {
     "data": {
      "text/plain": [
       "Survived    0\n",
       "Pclass      0\n",
       "Sex         0\n",
       "Age         0\n",
       "SibSp       0\n",
       "Parch       0\n",
       "Fare        0\n",
       "Embarked    2\n",
       "dtype: int64"
      ]
     },
     "execution_count": 10,
     "metadata": {},
     "output_type": "execute_result"
    }
   ],
   "source": [
    "#checking for other columns with null values\n",
    "traindf2.isnull().sum()"
   ]
  },
  {
   "cell_type": "code",
   "execution_count": 11,
   "id": "8d9b9610",
   "metadata": {
    "execution": {
     "iopub.execute_input": "2023-07-17T13:37:47.981115Z",
     "iopub.status.busy": "2023-07-17T13:37:47.980738Z",
     "iopub.status.idle": "2023-07-17T13:37:47.987514Z",
     "shell.execute_reply": "2023-07-17T13:37:47.986312Z"
    },
    "papermill": {
     "duration": 0.019388,
     "end_time": "2023-07-17T13:37:47.989667",
     "exception": false,
     "start_time": "2023-07-17T13:37:47.970279",
     "status": "completed"
    },
    "tags": []
   },
   "outputs": [],
   "source": [
    "#only two null values in embarked and can't think of a desirable way of filling them so droping the rows with null values\n",
    "traindf2.dropna(inplace=True)"
   ]
  },
  {
   "cell_type": "code",
   "execution_count": 12,
   "id": "b10c1384",
   "metadata": {
    "execution": {
     "iopub.execute_input": "2023-07-17T13:37:48.009716Z",
     "iopub.status.busy": "2023-07-17T13:37:48.009310Z",
     "iopub.status.idle": "2023-07-17T13:37:48.023671Z",
     "shell.execute_reply": "2023-07-17T13:37:48.022555Z"
    },
    "papermill": {
     "duration": 0.026887,
     "end_time": "2023-07-17T13:37:48.025780",
     "exception": false,
     "start_time": "2023-07-17T13:37:47.998893",
     "status": "completed"
    },
    "tags": []
   },
   "outputs": [
    {
     "data": {
      "text/html": [
       "<div>\n",
       "<style scoped>\n",
       "    .dataframe tbody tr th:only-of-type {\n",
       "        vertical-align: middle;\n",
       "    }\n",
       "\n",
       "    .dataframe tbody tr th {\n",
       "        vertical-align: top;\n",
       "    }\n",
       "\n",
       "    .dataframe thead th {\n",
       "        text-align: right;\n",
       "    }\n",
       "</style>\n",
       "<table border=\"1\" class=\"dataframe\">\n",
       "  <thead>\n",
       "    <tr style=\"text-align: right;\">\n",
       "      <th></th>\n",
       "      <th>Survived</th>\n",
       "      <th>Pclass</th>\n",
       "      <th>Sex</th>\n",
       "      <th>Age</th>\n",
       "      <th>SibSp</th>\n",
       "      <th>Parch</th>\n",
       "      <th>Fare</th>\n",
       "      <th>Embarked</th>\n",
       "    </tr>\n",
       "  </thead>\n",
       "  <tbody>\n",
       "    <tr>\n",
       "      <th>0</th>\n",
       "      <td>0</td>\n",
       "      <td>3</td>\n",
       "      <td>male</td>\n",
       "      <td>22.0</td>\n",
       "      <td>1</td>\n",
       "      <td>0</td>\n",
       "      <td>7.2500</td>\n",
       "      <td>S</td>\n",
       "    </tr>\n",
       "    <tr>\n",
       "      <th>1</th>\n",
       "      <td>1</td>\n",
       "      <td>1</td>\n",
       "      <td>female</td>\n",
       "      <td>38.0</td>\n",
       "      <td>1</td>\n",
       "      <td>0</td>\n",
       "      <td>71.2833</td>\n",
       "      <td>C</td>\n",
       "    </tr>\n",
       "    <tr>\n",
       "      <th>2</th>\n",
       "      <td>1</td>\n",
       "      <td>3</td>\n",
       "      <td>female</td>\n",
       "      <td>26.0</td>\n",
       "      <td>0</td>\n",
       "      <td>0</td>\n",
       "      <td>7.9250</td>\n",
       "      <td>S</td>\n",
       "    </tr>\n",
       "    <tr>\n",
       "      <th>3</th>\n",
       "      <td>1</td>\n",
       "      <td>1</td>\n",
       "      <td>female</td>\n",
       "      <td>35.0</td>\n",
       "      <td>1</td>\n",
       "      <td>0</td>\n",
       "      <td>53.1000</td>\n",
       "      <td>S</td>\n",
       "    </tr>\n",
       "    <tr>\n",
       "      <th>4</th>\n",
       "      <td>0</td>\n",
       "      <td>3</td>\n",
       "      <td>male</td>\n",
       "      <td>35.0</td>\n",
       "      <td>0</td>\n",
       "      <td>0</td>\n",
       "      <td>8.0500</td>\n",
       "      <td>S</td>\n",
       "    </tr>\n",
       "  </tbody>\n",
       "</table>\n",
       "</div>"
      ],
      "text/plain": [
       "   Survived  Pclass     Sex   Age  SibSp  Parch     Fare Embarked\n",
       "0         0       3    male  22.0      1      0   7.2500        S\n",
       "1         1       1  female  38.0      1      0  71.2833        C\n",
       "2         1       3  female  26.0      0      0   7.9250        S\n",
       "3         1       1  female  35.0      1      0  53.1000        S\n",
       "4         0       3    male  35.0      0      0   8.0500        S"
      ]
     },
     "execution_count": 12,
     "metadata": {},
     "output_type": "execute_result"
    }
   ],
   "source": [
    "#printing the dataframe to look at the values\n",
    "traindf2.head()"
   ]
  },
  {
   "cell_type": "code",
   "execution_count": 13,
   "id": "115314e1",
   "metadata": {
    "execution": {
     "iopub.execute_input": "2023-07-17T13:37:48.046605Z",
     "iopub.status.busy": "2023-07-17T13:37:48.046246Z",
     "iopub.status.idle": "2023-07-17T13:37:48.052967Z",
     "shell.execute_reply": "2023-07-17T13:37:48.051744Z"
    },
    "papermill": {
     "duration": 0.019571,
     "end_time": "2023-07-17T13:37:48.055135",
     "exception": false,
     "start_time": "2023-07-17T13:37:48.035564",
     "status": "completed"
    },
    "tags": []
   },
   "outputs": [],
   "source": [
    "#using label encoder to convert text into numbers\n",
    "le=LabelEncoder()\n",
    "traindf2.Sex=le.fit_transform(traindf2.Sex)\n",
    "traindf2.Embarked=le.fit_transform(traindf2.Embarked)"
   ]
  },
  {
   "cell_type": "code",
   "execution_count": 14,
   "id": "9b4fc71b",
   "metadata": {
    "execution": {
     "iopub.execute_input": "2023-07-17T13:37:48.075190Z",
     "iopub.status.busy": "2023-07-17T13:37:48.074754Z",
     "iopub.status.idle": "2023-07-17T13:37:48.087544Z",
     "shell.execute_reply": "2023-07-17T13:37:48.086126Z"
    },
    "papermill": {
     "duration": 0.025483,
     "end_time": "2023-07-17T13:37:48.089786",
     "exception": false,
     "start_time": "2023-07-17T13:37:48.064303",
     "status": "completed"
    },
    "tags": []
   },
   "outputs": [
    {
     "data": {
      "text/html": [
       "<div>\n",
       "<style scoped>\n",
       "    .dataframe tbody tr th:only-of-type {\n",
       "        vertical-align: middle;\n",
       "    }\n",
       "\n",
       "    .dataframe tbody tr th {\n",
       "        vertical-align: top;\n",
       "    }\n",
       "\n",
       "    .dataframe thead th {\n",
       "        text-align: right;\n",
       "    }\n",
       "</style>\n",
       "<table border=\"1\" class=\"dataframe\">\n",
       "  <thead>\n",
       "    <tr style=\"text-align: right;\">\n",
       "      <th></th>\n",
       "      <th>Survived</th>\n",
       "      <th>Pclass</th>\n",
       "      <th>Sex</th>\n",
       "      <th>Age</th>\n",
       "      <th>SibSp</th>\n",
       "      <th>Parch</th>\n",
       "      <th>Fare</th>\n",
       "      <th>Embarked</th>\n",
       "    </tr>\n",
       "  </thead>\n",
       "  <tbody>\n",
       "    <tr>\n",
       "      <th>0</th>\n",
       "      <td>0</td>\n",
       "      <td>3</td>\n",
       "      <td>1</td>\n",
       "      <td>22.0</td>\n",
       "      <td>1</td>\n",
       "      <td>0</td>\n",
       "      <td>7.2500</td>\n",
       "      <td>2</td>\n",
       "    </tr>\n",
       "    <tr>\n",
       "      <th>1</th>\n",
       "      <td>1</td>\n",
       "      <td>1</td>\n",
       "      <td>0</td>\n",
       "      <td>38.0</td>\n",
       "      <td>1</td>\n",
       "      <td>0</td>\n",
       "      <td>71.2833</td>\n",
       "      <td>0</td>\n",
       "    </tr>\n",
       "    <tr>\n",
       "      <th>2</th>\n",
       "      <td>1</td>\n",
       "      <td>3</td>\n",
       "      <td>0</td>\n",
       "      <td>26.0</td>\n",
       "      <td>0</td>\n",
       "      <td>0</td>\n",
       "      <td>7.9250</td>\n",
       "      <td>2</td>\n",
       "    </tr>\n",
       "    <tr>\n",
       "      <th>3</th>\n",
       "      <td>1</td>\n",
       "      <td>1</td>\n",
       "      <td>0</td>\n",
       "      <td>35.0</td>\n",
       "      <td>1</td>\n",
       "      <td>0</td>\n",
       "      <td>53.1000</td>\n",
       "      <td>2</td>\n",
       "    </tr>\n",
       "    <tr>\n",
       "      <th>4</th>\n",
       "      <td>0</td>\n",
       "      <td>3</td>\n",
       "      <td>1</td>\n",
       "      <td>35.0</td>\n",
       "      <td>0</td>\n",
       "      <td>0</td>\n",
       "      <td>8.0500</td>\n",
       "      <td>2</td>\n",
       "    </tr>\n",
       "  </tbody>\n",
       "</table>\n",
       "</div>"
      ],
      "text/plain": [
       "   Survived  Pclass  Sex   Age  SibSp  Parch     Fare  Embarked\n",
       "0         0       3    1  22.0      1      0   7.2500         2\n",
       "1         1       1    0  38.0      1      0  71.2833         0\n",
       "2         1       3    0  26.0      0      0   7.9250         2\n",
       "3         1       1    0  35.0      1      0  53.1000         2\n",
       "4         0       3    1  35.0      0      0   8.0500         2"
      ]
     },
     "execution_count": 14,
     "metadata": {},
     "output_type": "execute_result"
    }
   ],
   "source": [
    "#printing the dataframe to look at the values\n",
    "traindf2.head()"
   ]
  },
  {
   "cell_type": "code",
   "execution_count": 15,
   "id": "09fa0b84",
   "metadata": {
    "execution": {
     "iopub.execute_input": "2023-07-17T13:37:48.111075Z",
     "iopub.status.busy": "2023-07-17T13:37:48.110638Z",
     "iopub.status.idle": "2023-07-17T13:37:48.120685Z",
     "shell.execute_reply": "2023-07-17T13:37:48.119465Z"
    },
    "papermill": {
     "duration": 0.023619,
     "end_time": "2023-07-17T13:37:48.122914",
     "exception": false,
     "start_time": "2023-07-17T13:37:48.099295",
     "status": "completed"
    },
    "tags": []
   },
   "outputs": [
    {
     "data": {
      "text/plain": [
       "Survived    False\n",
       "Pclass      False\n",
       "Sex         False\n",
       "Age         False\n",
       "SibSp       False\n",
       "Parch       False\n",
       "Fare        False\n",
       "Embarked    False\n",
       "dtype: bool"
      ]
     },
     "execution_count": 15,
     "metadata": {},
     "output_type": "execute_result"
    }
   ],
   "source": [
    "#making sure no values are null\n",
    "traindf2.isnull().any()"
   ]
  },
  {
   "cell_type": "code",
   "execution_count": 16,
   "id": "67aea28d",
   "metadata": {
    "execution": {
     "iopub.execute_input": "2023-07-17T13:37:48.144629Z",
     "iopub.status.busy": "2023-07-17T13:37:48.143631Z",
     "iopub.status.idle": "2023-07-17T13:37:48.149264Z",
     "shell.execute_reply": "2023-07-17T13:37:48.148096Z"
    },
    "papermill": {
     "duration": 0.01876,
     "end_time": "2023-07-17T13:37:48.151488",
     "exception": false,
     "start_time": "2023-07-17T13:37:48.132728",
     "status": "completed"
    },
    "tags": []
   },
   "outputs": [],
   "source": [
    "y=traindf2.Survived"
   ]
  },
  {
   "cell_type": "code",
   "execution_count": 17,
   "id": "f7a78aec",
   "metadata": {
    "execution": {
     "iopub.execute_input": "2023-07-17T13:37:48.171829Z",
     "iopub.status.busy": "2023-07-17T13:37:48.171439Z",
     "iopub.status.idle": "2023-07-17T13:37:48.180186Z",
     "shell.execute_reply": "2023-07-17T13:37:48.179053Z"
    },
    "papermill": {
     "duration": 0.021389,
     "end_time": "2023-07-17T13:37:48.182412",
     "exception": false,
     "start_time": "2023-07-17T13:37:48.161023",
     "status": "completed"
    },
    "tags": []
   },
   "outputs": [
    {
     "data": {
      "text/plain": [
       "Index(['Pclass', 'Sex', 'Age', 'SibSp', 'Parch', 'Fare', 'Embarked'], dtype='object')"
      ]
     },
     "execution_count": 17,
     "metadata": {},
     "output_type": "execute_result"
    }
   ],
   "source": [
    "x=traindf2.drop('Survived',axis=1)\n",
    "x.columns"
   ]
  },
  {
   "cell_type": "code",
   "execution_count": 18,
   "id": "7577313e",
   "metadata": {
    "execution": {
     "iopub.execute_input": "2023-07-17T13:37:48.203544Z",
     "iopub.status.busy": "2023-07-17T13:37:48.203172Z",
     "iopub.status.idle": "2023-07-17T13:37:48.209420Z",
     "shell.execute_reply": "2023-07-17T13:37:48.208592Z"
    },
    "papermill": {
     "duration": 0.019528,
     "end_time": "2023-07-17T13:37:48.211470",
     "exception": false,
     "start_time": "2023-07-17T13:37:48.191942",
     "status": "completed"
    },
    "tags": []
   },
   "outputs": [],
   "source": [
    "x_train, x_test, y_train, y_test = train_test_split(x, y, test_size=0.2)"
   ]
  },
  {
   "cell_type": "markdown",
   "id": "c7ba9133",
   "metadata": {
    "papermill": {
     "duration": 0.009011,
     "end_time": "2023-07-17T13:37:48.230012",
     "exception": false,
     "start_time": "2023-07-17T13:37:48.221001",
     "status": "completed"
    },
    "tags": []
   },
   "source": [
    "# **Data preprocessing for the training dataset done**"
   ]
  },
  {
   "cell_type": "markdown",
   "id": "0a65a822",
   "metadata": {
    "papermill": {
     "duration": 0.009037,
     "end_time": "2023-07-17T13:37:48.248527",
     "exception": false,
     "start_time": "2023-07-17T13:37:48.239490",
     "status": "completed"
    },
    "tags": []
   },
   "source": [
    "# **Model building**  "
   ]
  },
  {
   "cell_type": "code",
   "execution_count": 19,
   "id": "4a0ac040",
   "metadata": {
    "execution": {
     "iopub.execute_input": "2023-07-17T13:37:48.269205Z",
     "iopub.status.busy": "2023-07-17T13:37:48.268823Z",
     "iopub.status.idle": "2023-07-17T13:47:59.237548Z",
     "shell.execute_reply": "2023-07-17T13:47:59.236065Z"
    },
    "papermill": {
     "duration": 610.992056,
     "end_time": "2023-07-17T13:47:59.250145",
     "exception": false,
     "start_time": "2023-07-17T13:37:48.258089",
     "status": "completed"
    },
    "tags": []
   },
   "outputs": [
    {
     "name": "stdout",
     "output_type": "stream",
     "text": [
      "training score: 0.7988377819363734\n",
      "Test accuracy: 0.7359550561797753\n"
     ]
    }
   ],
   "source": [
    "svm=SVC()\n",
    "# Define the parameter grid for grid search\n",
    "param_grid = {'C': [0.1, 1, 10], 'gamma': [0.1, 1, 10], 'kernel': ['linear', 'rbf']}\n",
    "\n",
    "# Create an instance of GridSearchCV\n",
    "grid_search = GridSearchCV(svm, param_grid, cv=5)\n",
    "\n",
    "# Perform grid search with cross-validation\n",
    "grid_search.fit(x_train, y_train)\n",
    "\n",
    "# Get the best estimator from grid search\n",
    "best_svm = grid_search.best_estimator_\n",
    "\n",
    "# Access the best training accuracy during grid search\n",
    "training_accuracy = grid_search.best_score_\n",
    "\n",
    "#printing the best training accuracy during grid search\n",
    "print(\"training score:\",training_accuracy)\n",
    "# Evaluate the best estimator on the test set\n",
    "test_accuracy = best_svm.score(x_test, y_test)\n",
    "\n",
    "# printing the test accuracy\n",
    "print(\"Test accuracy:\", test_accuracy)"
   ]
  },
  {
   "cell_type": "markdown",
   "id": "38737187",
   "metadata": {
    "papermill": {
     "duration": 0.009313,
     "end_time": "2023-07-17T13:47:59.269343",
     "exception": false,
     "start_time": "2023-07-17T13:47:59.260030",
     "status": "completed"
    },
    "tags": []
   },
   "source": [
    "# *Even with the best params the accuracy is too low. trying another model i.e GaussianNB*"
   ]
  },
  {
   "cell_type": "code",
   "execution_count": 20,
   "id": "29adae91",
   "metadata": {
    "execution": {
     "iopub.execute_input": "2023-07-17T13:47:59.292055Z",
     "iopub.status.busy": "2023-07-17T13:47:59.290886Z",
     "iopub.status.idle": "2023-07-17T13:47:59.307554Z",
     "shell.execute_reply": "2023-07-17T13:47:59.306460Z"
    },
    "papermill": {
     "duration": 0.030677,
     "end_time": "2023-07-17T13:47:59.310137",
     "exception": false,
     "start_time": "2023-07-17T13:47:59.279460",
     "status": "completed"
    },
    "tags": []
   },
   "outputs": [
    {
     "name": "stdout",
     "output_type": "stream",
     "text": [
      "0.7808988764044944\n"
     ]
    }
   ],
   "source": [
    "# Create a Gaussian Naive Bayes classifier\n",
    "gnb = GaussianNB()\n",
    "\n",
    "#training the model\n",
    "gnb.fit(x_train,y_train)\n",
    "\n",
    "#evaluating on unseen data\n",
    "print(gnb.score(x_test,y_test))"
   ]
  },
  {
   "cell_type": "markdown",
   "id": "6cc778e7",
   "metadata": {
    "papermill": {
     "duration": 0.009872,
     "end_time": "2023-07-17T13:47:59.330261",
     "exception": false,
     "start_time": "2023-07-17T13:47:59.320389",
     "status": "completed"
    },
    "tags": []
   },
   "source": [
    "the score is better than the previous one but will make another model i.e XGboost to see which is better"
   ]
  },
  {
   "cell_type": "code",
   "execution_count": 21,
   "id": "aa16c40d",
   "metadata": {
    "execution": {
     "iopub.execute_input": "2023-07-17T13:47:59.353494Z",
     "iopub.status.busy": "2023-07-17T13:47:59.353027Z",
     "iopub.status.idle": "2023-07-17T13:48:17.182302Z",
     "shell.execute_reply": "2023-07-17T13:48:17.181089Z"
    },
    "papermill": {
     "duration": 17.843672,
     "end_time": "2023-07-17T13:48:17.184923",
     "exception": false,
     "start_time": "2023-07-17T13:47:59.341251",
     "status": "completed"
    },
    "tags": []
   },
   "outputs": [
    {
     "name": "stdout",
     "output_type": "stream",
     "text": [
      "Test accuracy: 0.7471910112359551\n"
     ]
    }
   ],
   "source": [
    "# Create an XGBoost classifier\n",
    "xgb = XGBClassifier()\n",
    "\n",
    "# Define the parameter grid for grid search\n",
    "param_grid = {\n",
    "    'n_estimators': [100, 200, 300],\n",
    "    'learning_rate': [0.1, 0.01, 0.001],\n",
    "    'max_depth': [3, 4, 5]\n",
    "}\n",
    "\n",
    "# Create an instance of GridSearchCV\n",
    "grid_search = GridSearchCV(xgb, param_grid, cv=5)\n",
    "\n",
    "# Perform grid search with cross-validation\n",
    "grid_search.fit(x_train, y_train)\n",
    "\n",
    "# Get the best estimator from grid search\n",
    "best_xgb = grid_search.best_estimator_\n",
    "\n",
    "# Evaluate the best estimator on the test set\n",
    "test_accuracy = best_xgb.score(x_test, y_test)\n",
    "\n",
    "# Print the test accuracy\n",
    "print(\"Test accuracy:\", test_accuracy)"
   ]
  },
  {
   "cell_type": "markdown",
   "id": "b8abc3b7",
   "metadata": {
    "papermill": {
     "duration": 0.009472,
     "end_time": "2023-07-17T13:48:17.204843",
     "exception": false,
     "start_time": "2023-07-17T13:48:17.195371",
     "status": "completed"
    },
    "tags": []
   },
   "source": [
    "this is more better\n",
    "making final predictions using this model"
   ]
  },
  {
   "cell_type": "markdown",
   "id": "a6312481",
   "metadata": {
    "papermill": {
     "duration": 0.009365,
     "end_time": "2023-07-17T13:48:17.224278",
     "exception": false,
     "start_time": "2023-07-17T13:48:17.214913",
     "status": "completed"
    },
    "tags": []
   },
   "source": [
    "# now to make prediction on actual test dataset"
   ]
  },
  {
   "cell_type": "markdown",
   "id": "3e8571f6",
   "metadata": {
    "papermill": {
     "duration": 0.009876,
     "end_time": "2023-07-17T13:48:17.244165",
     "exception": false,
     "start_time": "2023-07-17T13:48:17.234289",
     "status": "completed"
    },
    "tags": []
   },
   "source": [
    "# *Importing and preprocessing the test data*"
   ]
  },
  {
   "cell_type": "code",
   "execution_count": 22,
   "id": "ecc9a5a2",
   "metadata": {
    "execution": {
     "iopub.execute_input": "2023-07-17T13:48:17.268642Z",
     "iopub.status.busy": "2023-07-17T13:48:17.268239Z",
     "iopub.status.idle": "2023-07-17T13:48:17.308391Z",
     "shell.execute_reply": "2023-07-17T13:48:17.306765Z"
    },
    "papermill": {
     "duration": 0.054887,
     "end_time": "2023-07-17T13:48:17.310888",
     "exception": false,
     "start_time": "2023-07-17T13:48:17.256001",
     "status": "completed"
    },
    "tags": []
   },
   "outputs": [
    {
     "data": {
      "text/html": [
       "<div>\n",
       "<style scoped>\n",
       "    .dataframe tbody tr th:only-of-type {\n",
       "        vertical-align: middle;\n",
       "    }\n",
       "\n",
       "    .dataframe tbody tr th {\n",
       "        vertical-align: top;\n",
       "    }\n",
       "\n",
       "    .dataframe thead th {\n",
       "        text-align: right;\n",
       "    }\n",
       "</style>\n",
       "<table border=\"1\" class=\"dataframe\">\n",
       "  <thead>\n",
       "    <tr style=\"text-align: right;\">\n",
       "      <th></th>\n",
       "      <th>PassengerId</th>\n",
       "      <th>Pclass</th>\n",
       "      <th>Name</th>\n",
       "      <th>Sex</th>\n",
       "      <th>Age</th>\n",
       "      <th>SibSp</th>\n",
       "      <th>Parch</th>\n",
       "      <th>Ticket</th>\n",
       "      <th>Fare</th>\n",
       "      <th>Cabin</th>\n",
       "      <th>Embarked</th>\n",
       "    </tr>\n",
       "  </thead>\n",
       "  <tbody>\n",
       "    <tr>\n",
       "      <th>0</th>\n",
       "      <td>892</td>\n",
       "      <td>3</td>\n",
       "      <td>Kelly, Mr. James</td>\n",
       "      <td>male</td>\n",
       "      <td>34.5</td>\n",
       "      <td>0</td>\n",
       "      <td>0</td>\n",
       "      <td>330911</td>\n",
       "      <td>7.8292</td>\n",
       "      <td>NaN</td>\n",
       "      <td>Q</td>\n",
       "    </tr>\n",
       "    <tr>\n",
       "      <th>1</th>\n",
       "      <td>893</td>\n",
       "      <td>3</td>\n",
       "      <td>Wilkes, Mrs. James (Ellen Needs)</td>\n",
       "      <td>female</td>\n",
       "      <td>47.0</td>\n",
       "      <td>1</td>\n",
       "      <td>0</td>\n",
       "      <td>363272</td>\n",
       "      <td>7.0000</td>\n",
       "      <td>NaN</td>\n",
       "      <td>S</td>\n",
       "    </tr>\n",
       "    <tr>\n",
       "      <th>2</th>\n",
       "      <td>894</td>\n",
       "      <td>2</td>\n",
       "      <td>Myles, Mr. Thomas Francis</td>\n",
       "      <td>male</td>\n",
       "      <td>62.0</td>\n",
       "      <td>0</td>\n",
       "      <td>0</td>\n",
       "      <td>240276</td>\n",
       "      <td>9.6875</td>\n",
       "      <td>NaN</td>\n",
       "      <td>Q</td>\n",
       "    </tr>\n",
       "    <tr>\n",
       "      <th>3</th>\n",
       "      <td>895</td>\n",
       "      <td>3</td>\n",
       "      <td>Wirz, Mr. Albert</td>\n",
       "      <td>male</td>\n",
       "      <td>27.0</td>\n",
       "      <td>0</td>\n",
       "      <td>0</td>\n",
       "      <td>315154</td>\n",
       "      <td>8.6625</td>\n",
       "      <td>NaN</td>\n",
       "      <td>S</td>\n",
       "    </tr>\n",
       "    <tr>\n",
       "      <th>4</th>\n",
       "      <td>896</td>\n",
       "      <td>3</td>\n",
       "      <td>Hirvonen, Mrs. Alexander (Helga E Lindqvist)</td>\n",
       "      <td>female</td>\n",
       "      <td>22.0</td>\n",
       "      <td>1</td>\n",
       "      <td>1</td>\n",
       "      <td>3101298</td>\n",
       "      <td>12.2875</td>\n",
       "      <td>NaN</td>\n",
       "      <td>S</td>\n",
       "    </tr>\n",
       "  </tbody>\n",
       "</table>\n",
       "</div>"
      ],
      "text/plain": [
       "   PassengerId  Pclass                                          Name     Sex  \\\n",
       "0          892       3                              Kelly, Mr. James    male   \n",
       "1          893       3              Wilkes, Mrs. James (Ellen Needs)  female   \n",
       "2          894       2                     Myles, Mr. Thomas Francis    male   \n",
       "3          895       3                              Wirz, Mr. Albert    male   \n",
       "4          896       3  Hirvonen, Mrs. Alexander (Helga E Lindqvist)  female   \n",
       "\n",
       "    Age  SibSp  Parch   Ticket     Fare Cabin Embarked  \n",
       "0  34.5      0      0   330911   7.8292   NaN        Q  \n",
       "1  47.0      1      0   363272   7.0000   NaN        S  \n",
       "2  62.0      0      0   240276   9.6875   NaN        Q  \n",
       "3  27.0      0      0   315154   8.6625   NaN        S  \n",
       "4  22.0      1      1  3101298  12.2875   NaN        S  "
      ]
     },
     "execution_count": 22,
     "metadata": {},
     "output_type": "execute_result"
    }
   ],
   "source": [
    "#importing two instances\n",
    "testdf1=pd.read_csv('/kaggle/input/titanic/test.csv')\n",
    "testdf2=pd.read_csv('/kaggle/input/titanic/test.csv')\n",
    "testdf1.head()"
   ]
  },
  {
   "cell_type": "code",
   "execution_count": 23,
   "id": "f293ac8f",
   "metadata": {
    "execution": {
     "iopub.execute_input": "2023-07-17T13:48:17.335511Z",
     "iopub.status.busy": "2023-07-17T13:48:17.333852Z",
     "iopub.status.idle": "2023-07-17T13:48:17.346065Z",
     "shell.execute_reply": "2023-07-17T13:48:17.344364Z"
    },
    "papermill": {
     "duration": 0.027205,
     "end_time": "2023-07-17T13:48:17.348582",
     "exception": false,
     "start_time": "2023-07-17T13:48:17.321377",
     "status": "completed"
    },
    "tags": []
   },
   "outputs": [
    {
     "name": "stdout",
     "output_type": "stream",
     "text": [
      "Pclass       0\n",
      "Sex          0\n",
      "Age         86\n",
      "SibSp        0\n",
      "Parch        0\n",
      "Fare         1\n",
      "Embarked     0\n",
      "dtype: int64\n"
     ]
    }
   ],
   "source": [
    "# doing the same steps as on the previous training data set \n",
    "\n",
    "# dropping irrelevant columns\n",
    "testdf1.drop(['PassengerId','Name','Ticket','Cabin'],axis=1,inplace=True)\n",
    "\n",
    "#label encoding 'Sex' and 'Embarked' columns\n",
    "testdf1.Sex=le.fit_transform(testdf1.Sex)\n",
    "testdf1.Embarked=le.fit_transform(testdf1.Embarked)\n",
    "\n",
    "#Checking for any blank values\n",
    "print(testdf1.isnull().sum())"
   ]
  },
  {
   "cell_type": "code",
   "execution_count": 24,
   "id": "d968ca2f",
   "metadata": {
    "execution": {
     "iopub.execute_input": "2023-07-17T13:48:17.373656Z",
     "iopub.status.busy": "2023-07-17T13:48:17.372984Z",
     "iopub.status.idle": "2023-07-17T13:48:17.379019Z",
     "shell.execute_reply": "2023-07-17T13:48:17.378138Z"
    },
    "papermill": {
     "duration": 0.021702,
     "end_time": "2023-07-17T13:48:17.381398",
     "exception": false,
     "start_time": "2023-07-17T13:48:17.359696",
     "status": "completed"
    },
    "tags": []
   },
   "outputs": [],
   "source": [
    "# filling null values\n",
    "testdf1.Age.fillna(int(testdf1.Age.mean()),inplace=True)\n",
    "testdf1.Fare.fillna(int(testdf1.Fare.mean()),inplace=True)"
   ]
  },
  {
   "cell_type": "code",
   "execution_count": 25,
   "id": "a003a0c9",
   "metadata": {
    "execution": {
     "iopub.execute_input": "2023-07-17T13:48:17.404601Z",
     "iopub.status.busy": "2023-07-17T13:48:17.403936Z",
     "iopub.status.idle": "2023-07-17T13:48:17.413050Z",
     "shell.execute_reply": "2023-07-17T13:48:17.411886Z"
    },
    "papermill": {
     "duration": 0.022624,
     "end_time": "2023-07-17T13:48:17.415091",
     "exception": false,
     "start_time": "2023-07-17T13:48:17.392467",
     "status": "completed"
    },
    "tags": []
   },
   "outputs": [
    {
     "data": {
      "text/plain": [
       "Pclass      False\n",
       "Sex         False\n",
       "Age         False\n",
       "SibSp       False\n",
       "Parch       False\n",
       "Fare        False\n",
       "Embarked    False\n",
       "dtype: bool"
      ]
     },
     "execution_count": 25,
     "metadata": {},
     "output_type": "execute_result"
    }
   ],
   "source": [
    "#again checking for any null values\n",
    "testdf1.isnull().any()"
   ]
  },
  {
   "cell_type": "code",
   "execution_count": 26,
   "id": "c42a61ad",
   "metadata": {
    "execution": {
     "iopub.execute_input": "2023-07-17T13:48:17.438765Z",
     "iopub.status.busy": "2023-07-17T13:48:17.438103Z",
     "iopub.status.idle": "2023-07-17T13:48:17.449577Z",
     "shell.execute_reply": "2023-07-17T13:48:17.448706Z"
    },
    "papermill": {
     "duration": 0.025621,
     "end_time": "2023-07-17T13:48:17.451735",
     "exception": false,
     "start_time": "2023-07-17T13:48:17.426114",
     "status": "completed"
    },
    "tags": []
   },
   "outputs": [
    {
     "data": {
      "text/html": [
       "<div>\n",
       "<style scoped>\n",
       "    .dataframe tbody tr th:only-of-type {\n",
       "        vertical-align: middle;\n",
       "    }\n",
       "\n",
       "    .dataframe tbody tr th {\n",
       "        vertical-align: top;\n",
       "    }\n",
       "\n",
       "    .dataframe thead th {\n",
       "        text-align: right;\n",
       "    }\n",
       "</style>\n",
       "<table border=\"1\" class=\"dataframe\">\n",
       "  <thead>\n",
       "    <tr style=\"text-align: right;\">\n",
       "      <th></th>\n",
       "      <th>Pclass</th>\n",
       "      <th>Sex</th>\n",
       "      <th>Age</th>\n",
       "      <th>SibSp</th>\n",
       "      <th>Parch</th>\n",
       "      <th>Fare</th>\n",
       "      <th>Embarked</th>\n",
       "    </tr>\n",
       "  </thead>\n",
       "  <tbody>\n",
       "    <tr>\n",
       "      <th>0</th>\n",
       "      <td>3</td>\n",
       "      <td>1</td>\n",
       "      <td>34.5</td>\n",
       "      <td>0</td>\n",
       "      <td>0</td>\n",
       "      <td>7.8292</td>\n",
       "      <td>1</td>\n",
       "    </tr>\n",
       "    <tr>\n",
       "      <th>1</th>\n",
       "      <td>3</td>\n",
       "      <td>0</td>\n",
       "      <td>47.0</td>\n",
       "      <td>1</td>\n",
       "      <td>0</td>\n",
       "      <td>7.0000</td>\n",
       "      <td>2</td>\n",
       "    </tr>\n",
       "    <tr>\n",
       "      <th>2</th>\n",
       "      <td>2</td>\n",
       "      <td>1</td>\n",
       "      <td>62.0</td>\n",
       "      <td>0</td>\n",
       "      <td>0</td>\n",
       "      <td>9.6875</td>\n",
       "      <td>1</td>\n",
       "    </tr>\n",
       "    <tr>\n",
       "      <th>3</th>\n",
       "      <td>3</td>\n",
       "      <td>1</td>\n",
       "      <td>27.0</td>\n",
       "      <td>0</td>\n",
       "      <td>0</td>\n",
       "      <td>8.6625</td>\n",
       "      <td>2</td>\n",
       "    </tr>\n",
       "    <tr>\n",
       "      <th>4</th>\n",
       "      <td>3</td>\n",
       "      <td>0</td>\n",
       "      <td>22.0</td>\n",
       "      <td>1</td>\n",
       "      <td>1</td>\n",
       "      <td>12.2875</td>\n",
       "      <td>2</td>\n",
       "    </tr>\n",
       "  </tbody>\n",
       "</table>\n",
       "</div>"
      ],
      "text/plain": [
       "   Pclass  Sex   Age  SibSp  Parch     Fare  Embarked\n",
       "0       3    1  34.5      0      0   7.8292         1\n",
       "1       3    0  47.0      1      0   7.0000         2\n",
       "2       2    1  62.0      0      0   9.6875         1\n",
       "3       3    1  27.0      0      0   8.6625         2\n",
       "4       3    0  22.0      1      1  12.2875         2"
      ]
     },
     "execution_count": 26,
     "metadata": {},
     "output_type": "execute_result"
    }
   ],
   "source": [
    "#looking at the dataset\n",
    "testdf1.head()"
   ]
  },
  {
   "cell_type": "markdown",
   "id": "0747852e",
   "metadata": {
    "papermill": {
     "duration": 0.010007,
     "end_time": "2023-07-17T13:48:17.473272",
     "exception": false,
     "start_time": "2023-07-17T13:48:17.463265",
     "status": "completed"
    },
    "tags": []
   },
   "source": [
    "# *Finally predicting on the test data*"
   ]
  },
  {
   "cell_type": "code",
   "execution_count": 27,
   "id": "9110a7c0",
   "metadata": {
    "execution": {
     "iopub.execute_input": "2023-07-17T13:48:17.497521Z",
     "iopub.status.busy": "2023-07-17T13:48:17.496603Z",
     "iopub.status.idle": "2023-07-17T13:48:17.505452Z",
     "shell.execute_reply": "2023-07-17T13:48:17.504544Z"
    },
    "papermill": {
     "duration": 0.023731,
     "end_time": "2023-07-17T13:48:17.508373",
     "exception": false,
     "start_time": "2023-07-17T13:48:17.484642",
     "status": "completed"
    },
    "tags": []
   },
   "outputs": [],
   "source": [
    "predictions=best_xgb.predict(testdf1)"
   ]
  },
  {
   "cell_type": "code",
   "execution_count": 28,
   "id": "969ca523",
   "metadata": {
    "execution": {
     "iopub.execute_input": "2023-07-17T13:48:17.531744Z",
     "iopub.status.busy": "2023-07-17T13:48:17.531342Z",
     "iopub.status.idle": "2023-07-17T13:48:17.543146Z",
     "shell.execute_reply": "2023-07-17T13:48:17.541508Z"
    },
    "papermill": {
     "duration": 0.025852,
     "end_time": "2023-07-17T13:48:17.545528",
     "exception": false,
     "start_time": "2023-07-17T13:48:17.519676",
     "status": "completed"
    },
    "tags": []
   },
   "outputs": [
    {
     "data": {
      "text/html": [
       "<div>\n",
       "<style scoped>\n",
       "    .dataframe tbody tr th:only-of-type {\n",
       "        vertical-align: middle;\n",
       "    }\n",
       "\n",
       "    .dataframe tbody tr th {\n",
       "        vertical-align: top;\n",
       "    }\n",
       "\n",
       "    .dataframe thead th {\n",
       "        text-align: right;\n",
       "    }\n",
       "</style>\n",
       "<table border=\"1\" class=\"dataframe\">\n",
       "  <thead>\n",
       "    <tr style=\"text-align: right;\">\n",
       "      <th></th>\n",
       "      <th>PassengerID</th>\n",
       "      <th>Survived</th>\n",
       "    </tr>\n",
       "  </thead>\n",
       "  <tbody>\n",
       "    <tr>\n",
       "      <th>0</th>\n",
       "      <td>892</td>\n",
       "      <td>0</td>\n",
       "    </tr>\n",
       "    <tr>\n",
       "      <th>1</th>\n",
       "      <td>893</td>\n",
       "      <td>0</td>\n",
       "    </tr>\n",
       "    <tr>\n",
       "      <th>2</th>\n",
       "      <td>894</td>\n",
       "      <td>0</td>\n",
       "    </tr>\n",
       "    <tr>\n",
       "      <th>3</th>\n",
       "      <td>895</td>\n",
       "      <td>0</td>\n",
       "    </tr>\n",
       "    <tr>\n",
       "      <th>4</th>\n",
       "      <td>896</td>\n",
       "      <td>1</td>\n",
       "    </tr>\n",
       "  </tbody>\n",
       "</table>\n",
       "</div>"
      ],
      "text/plain": [
       "   PassengerID  Survived\n",
       "0          892         0\n",
       "1          893         0\n",
       "2          894         0\n",
       "3          895         0\n",
       "4          896         1"
      ]
     },
     "execution_count": 28,
     "metadata": {},
     "output_type": "execute_result"
    }
   ],
   "source": [
    "#creating a dataframe from the predictions with respect to Passenger Id\n",
    "data={'PassengerID':testdf2.PassengerId,\n",
    "     'Survived':predictions}\n",
    "xgbpredictionsfinal=pd.DataFrame(data)\n",
    "\n",
    "#viewing the dataframe\n",
    "xgbpredictionsfinal.head()"
   ]
  },
  {
   "cell_type": "code",
   "execution_count": 29,
   "id": "dceed871",
   "metadata": {
    "execution": {
     "iopub.execute_input": "2023-07-17T13:48:17.569208Z",
     "iopub.status.busy": "2023-07-17T13:48:17.568708Z",
     "iopub.status.idle": "2023-07-17T13:48:17.578654Z",
     "shell.execute_reply": "2023-07-17T13:48:17.577336Z"
    },
    "papermill": {
     "duration": 0.024978,
     "end_time": "2023-07-17T13:48:17.581333",
     "exception": false,
     "start_time": "2023-07-17T13:48:17.556355",
     "status": "completed"
    },
    "tags": []
   },
   "outputs": [],
   "source": [
    "#exporting a csv file of the predictions\n",
    "xgbpredictionsfinal.to_csv( ' xgbpredictionsfinal.csv',index=False)"
   ]
  }
 ],
 "metadata": {
  "kernelspec": {
   "display_name": "Python 3",
   "language": "python",
   "name": "python3"
  },
  "language_info": {
   "codemirror_mode": {
    "name": "ipython",
    "version": 3
   },
   "file_extension": ".py",
   "mimetype": "text/x-python",
   "name": "python",
   "nbconvert_exporter": "python",
   "pygments_lexer": "ipython3",
   "version": "3.10.12"
  },
  "papermill": {
   "default_parameters": {},
   "duration": 643.315088,
   "end_time": "2023-07-17T13:48:18.617453",
   "environment_variables": {},
   "exception": null,
   "input_path": "__notebook__.ipynb",
   "output_path": "__notebook__.ipynb",
   "parameters": {},
   "start_time": "2023-07-17T13:37:35.302365",
   "version": "2.4.0"
  }
 },
 "nbformat": 4,
 "nbformat_minor": 5
}
